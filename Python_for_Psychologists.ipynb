{
 "cells": [
  {
   "cell_type": "markdown",
   "metadata": {},
   "source": [
    "# Python for Psychologists"
   ]
  },
  {
   "cell_type": "markdown",
   "metadata": {},
   "source": [
    "This notebook follows the outline of \"Matlab for Psychologists\" with translation of the code into Python, and more context is provided in that article.\n",
    "A recommended reference is the [Python for Beginners](https://www.pythonforbeginners.com) website. "
   ]
  },
  {
   "cell_type": "markdown",
   "metadata": {},
   "source": [
    "## Getting started"
   ]
  },
  {
   "cell_type": "markdown",
   "metadata": {},
   "source": [
    "These notes assume that you are either using MacOS / Linux, or Windows with [Powershell](https://docs.microsoft.com/en-us/powershell/scripting/powershell-scripting?view=powershell-6) for command line operations.\n",
    "I recommend installing the [Anaconda](https://www.anaconda.com/download) distribution of Python version 3.x that is available for most major platforms. This should be done even if you already have a version of Python on your computer. e.g. MacOS has Python built-in but it is the older version 2.7."
   ]
  },
  {
   "cell_type": "markdown",
   "metadata": {},
   "source": [
    "The page [Python Setup](https://www.pythonforbeginners.com/basics/python-setup/) describes the basics of getting started.\n",
    "However, ignore the installation section of that page as you will use Anaconda instead."
   ]
  },
  {
   "cell_type": "markdown",
   "metadata": {},
   "source": [
    "If you are not familiar with the command line interface (CLI) to your computer, i.e. the terminal window, then you should take some time to read a tutorial. Here is such a [tutorial for MacOS terminal](http://blog.teamtreehouse.com/introduction-to-the-mac-os-x-command-line)."
   ]
  },
  {
   "cell_type": "markdown",
   "metadata": {},
   "source": [
    "After installing Anaconda and re-booting your computer, your terminal should be correctly setup to find Python 3.x (currently version 3.6). Try the following command in a terminal to confirm your version.<br>\n",
    "**python -V**<br>\n",
    "The result should look like the following line, though you will likely have a newer Python version.<br>\n",
    "**Python 3.5.4 :: Anaconda custom (64-bit)**"
   ]
  },
  {
   "cell_type": "markdown",
   "metadata": {},
   "source": [
    "To check the python version in code you would do the following. The details are not important right now, but you should find the code runs without an error or else your Python version is too low."
   ]
  },
  {
   "cell_type": "code",
   "execution_count": 1,
   "metadata": {},
   "outputs": [
    {
     "name": "stdout",
     "output_type": "stream",
     "text": [
      "sys.version_info(major=3, minor=5, micro=4, releaselevel='final', serial=0)\n",
      "3 5\n"
     ]
    }
   ],
   "source": [
    "import sys\n",
    "print(sys.version_info)\n",
    "# the major and minor version numbers are printed\n",
    "print(sys.version_info[0],sys.version_info[1])\n",
    "#if the following statement causes an error then your version is lower than v.3.0\n",
    "assert sys.version_info >= (3,0)"
   ]
  },
  {
   "cell_type": "markdown",
   "metadata": {},
   "source": [
    "To follow this tutorial you will be trying Python commands interactively. Although you can test short code segments interactively in the terminal using ipython, I recommend instead that you use Jupyter notebook which is feature rich and permits longer code chunks.  This program is already installed with your Anaconda installation. To use it with this notebook you should open a terminal and change directory to the one where the notebook file is located. e.g. If your Python course files are in a folder called \"IntroToPython\" on your desktop then type the following command to change your terminal directory accordingly<br>\n",
    "**cd ~/Desktop/IntroToPython**<br>\n",
    "and you can test that it is available by typing the following in the terminal<br>\n",
    "**jupyter notebook**<br>\n",
    "which should start the interface in your default web browser. You will see the directory contents which should include the notebook file \"Python_for_Psychologists.ipynb\". Double-click to open it in your browser.<br>\n",
    "Please read a good [tutorial for using Jupyter notebook](https://www.dataquest.io/blog/jupyter-notebook-tutorial/).\n",
    "When you have a Jupyter notebook open you can insert new code blocks and run them interactively. To insert comments you can start a line with the \"#\" comment symbol or else create a Markdown block such as this one you're reading which provides more ways to beautify your text.<br>\n",
    "**I'll refer to Jupyter notebook as JN for brevity.**"
   ]
  },
  {
   "cell_type": "markdown",
   "metadata": {},
   "source": [
    "## Getting help"
   ]
  },
  {
   "cell_type": "markdown",
   "metadata": {},
   "source": [
    "To get help at anytime in a jupyter notebook you can precede a command name with the \"?\" symbol. This will show the help in a separate pane at the bottom of your notebook page\n",
    "Run the next code block to see how to get help for the len() function."
   ]
  },
  {
   "cell_type": "code",
   "execution_count": 2,
   "metadata": {},
   "outputs": [
    {
     "data": {
      "text/plain": [
       "\u001b[0;31mSignature:\u001b[0m \u001b[0mlen\u001b[0m\u001b[0;34m(\u001b[0m\u001b[0mobj\u001b[0m\u001b[0;34m,\u001b[0m \u001b[0;34m/\u001b[0m\u001b[0;34m)\u001b[0m\u001b[0;34m\u001b[0m\u001b[0m\n",
       "\u001b[0;31mDocstring:\u001b[0m Return the number of items in a container.\n",
       "\u001b[0;31mType:\u001b[0m      builtin_function_or_method\n"
      ]
     },
     "metadata": {},
     "output_type": "display_data"
    }
   ],
   "source": [
    "?len"
   ]
  },
  {
   "cell_type": "code",
   "execution_count": 3,
   "metadata": {},
   "outputs": [
    {
     "name": "stdout",
     "output_type": "stream",
     "text": [
      "Help on built-in function len in module builtins:\n",
      "\n",
      "len(obj, /)\n",
      "    Return the number of items in a container.\n",
      "\n"
     ]
    }
   ],
   "source": [
    "#the same but differently formatted info from help(<function>)\n",
    "help(len)"
   ]
  },
  {
   "cell_type": "markdown",
   "metadata": {},
   "source": [
    "# Lesson 1 - The Basics"
   ]
  },
  {
   "cell_type": "code",
   "execution_count": 4,
   "metadata": {},
   "outputs": [
    {
     "data": {
      "text/plain": [
       "20"
      ]
     },
     "execution_count": 4,
     "metadata": {},
     "output_type": "execute_result"
    }
   ],
   "source": [
    "A = 10\n",
    "A+A"
   ]
  },
  {
   "cell_type": "code",
   "execution_count": 5,
   "metadata": {},
   "outputs": [
    {
     "data": {
      "text/plain": [
       "13"
      ]
     },
     "execution_count": 5,
     "metadata": {},
     "output_type": "execute_result"
    }
   ],
   "source": [
    "B = 5+8\n",
    "B"
   ]
  },
  {
   "cell_type": "code",
   "execution_count": 6,
   "metadata": {},
   "outputs": [
    {
     "data": {
      "text/plain": [
       "15"
      ]
     },
     "execution_count": 6,
     "metadata": {},
     "output_type": "execute_result"
    }
   ],
   "source": [
    "A = 15\n",
    "A"
   ]
  },
  {
   "cell_type": "markdown",
   "metadata": {},
   "source": [
    "To clear a variable from memory (and not just set it to zero) then use **del**. <br>\n",
    "There is no analogue to \"clear all\" in Python but if you need to do this in your notebook then use the Jupyter Notebook Kernel menu. e.g. Kernel / Restart and Clear Output to restore to the initial state.\n",
    "Or else use the **%reset** command as shown below but this is only used with ipython or Jupyter notebook."
   ]
  },
  {
   "cell_type": "code",
   "execution_count": 7,
   "metadata": {},
   "outputs": [],
   "source": [
    "B=1\n",
    "del B\n",
    "#The next statement to display B causes an error because B is no longer defined.\n",
    "#print(B)\n"
   ]
  },
  {
   "cell_type": "markdown",
   "metadata": {},
   "source": [
    "To see variables in the workspace<br>\n",
    "    **dir()** dictionary of in-scope variables:<br>\n",
    "    **globals()** dictionary of global variables<br>\n",
    "    **locals()** dictionary of local variables\n"
   ]
  },
  {
   "cell_type": "code",
   "execution_count": 8,
   "metadata": {},
   "outputs": [
    {
     "data": {
      "text/plain": [
       "['A',\n",
       " 'In',\n",
       " 'Out',\n",
       " '_',\n",
       " '_4',\n",
       " '_5',\n",
       " '_6',\n",
       " '__',\n",
       " '___',\n",
       " '__builtin__',\n",
       " '__builtins__',\n",
       " '__doc__',\n",
       " '__loader__',\n",
       " '__name__',\n",
       " '__package__',\n",
       " '__spec__',\n",
       " '_dh',\n",
       " '_i',\n",
       " '_i1',\n",
       " '_i2',\n",
       " '_i3',\n",
       " '_i4',\n",
       " '_i5',\n",
       " '_i6',\n",
       " '_i7',\n",
       " '_i8',\n",
       " '_ih',\n",
       " '_ii',\n",
       " '_iii',\n",
       " '_oh',\n",
       " 'exit',\n",
       " 'get_ipython',\n",
       " 'quit',\n",
       " 'sys']"
      ]
     },
     "execution_count": 8,
     "metadata": {},
     "output_type": "execute_result"
    }
   ],
   "source": [
    "#Get a list of variables in the local scope (which includes hidden variables from your jupyter notebook)\n",
    "dir()"
   ]
  },
  {
   "cell_type": "code",
   "execution_count": 9,
   "metadata": {},
   "outputs": [],
   "source": [
    "#this will clear the user-defined variables, when using JN. I've commented it out because it stops execution \n",
    "#  following lines.\n",
    "# %reset"
   ]
  },
  {
   "cell_type": "code",
   "execution_count": 10,
   "metadata": {},
   "outputs": [
    {
     "data": {
      "text/plain": [
       "['A',\n",
       " 'In',\n",
       " 'Out',\n",
       " '_',\n",
       " '_4',\n",
       " '_5',\n",
       " '_6',\n",
       " '_8',\n",
       " '__',\n",
       " '___',\n",
       " '__builtin__',\n",
       " '__builtins__',\n",
       " '__doc__',\n",
       " '__loader__',\n",
       " '__name__',\n",
       " '__package__',\n",
       " '__spec__',\n",
       " '_dh',\n",
       " '_i',\n",
       " '_i1',\n",
       " '_i10',\n",
       " '_i2',\n",
       " '_i3',\n",
       " '_i4',\n",
       " '_i5',\n",
       " '_i6',\n",
       " '_i7',\n",
       " '_i8',\n",
       " '_i9',\n",
       " '_ih',\n",
       " '_ii',\n",
       " '_iii',\n",
       " '_oh',\n",
       " 'exit',\n",
       " 'get_ipython',\n",
       " 'quit',\n",
       " 'sys']"
      ]
     },
     "execution_count": 10,
     "metadata": {},
     "output_type": "execute_result"
    }
   ],
   "source": [
    "dir()"
   ]
  },
  {
   "cell_type": "markdown",
   "metadata": {},
   "source": [
    "# Lesson 2 - Matrices and Punctuation"
   ]
  },
  {
   "cell_type": "markdown",
   "metadata": {},
   "source": [
    "In general, there are several ways to manipulate a set of data that could represent a vector or matrix. I recommend:<br>\n",
    " - if there is only a need to do simple operations like **sum** then a built-in *list* might suffice.<br>\n",
    " - if matrix/vector multiplication will be required then use a Numpy *array*.<br>\n",
    " - if the data is mixed with non-numeric then start with a Pandas *dataframe* from which you can extract *arrays*.<br>\n",
    "\n",
    "For this lesson, we'll stick to Numpy operations and objects.<br>\n",
    "Here's a good [cheat sheet for Numpy operations](https://www.dataquest.io/blog/numpy-cheat-sheet/).\n",
    "And here's a guide to [Numpy for Matlab users](https://docs.scipy.org/doc/numpy/user/numpy-for-matlab-users.html).\n",
    " "
   ]
  },
  {
   "cell_type": "code",
   "execution_count": 11,
   "metadata": {},
   "outputs": [
    {
     "name": "stdout",
     "output_type": "stream",
     "text": [
      "10\n",
      "[1 2 3]\n",
      "[[4]\n",
      " [3]\n",
      " [8]]\n"
     ]
    }
   ],
   "source": [
    "#obtain the external module numpy whose commands we will specify by name (alias) np\n",
    "import numpy as np\n",
    "#Scalar array\n",
    "A = np.array(10)\n",
    "#Vector array\n",
    "B = np.array([1,2,3])\n",
    "print(A)\n",
    "print(B)\n",
    "#create row vector then reshape to be a column vector\n",
    "C = np.array([4,3,8])\n",
    "C = C.reshape(-1,1) #-1 indicates number of rows is inferred from specified number of columns (1)\n",
    "print(C)"
   ]
  },
  {
   "cell_type": "code",
   "execution_count": 12,
   "metadata": {},
   "outputs": [
    {
     "name": "stdout",
     "output_type": "stream",
     "text": [
      "[[5 6 7 9]\n",
      " [8 3 5 3]\n",
      " [5 6 3 2]]\n"
     ]
    }
   ],
   "source": [
    "#Matrix\n",
    "D = np.array([[5,6,7,9],\n",
    "              [8,3,5,3],\n",
    "              [5,6,3,2]])\n",
    "print(D)"
   ]
  },
  {
   "cell_type": "code",
   "execution_count": 13,
   "metadata": {},
   "outputs": [
    {
     "name": "stdout",
     "output_type": "stream",
     "text": [
      "<class 'numpy.ndarray'>\n",
      "10\n",
      "<class 'int'>\n"
     ]
    }
   ],
   "source": [
    "#Element\n",
    "#convert an array of size 1 (scalar array) into an ordinary scalar element\n",
    "print(type(A))\n",
    "a = np.asscalar(A)\n",
    "print(a)\n",
    "print(type(a))"
   ]
  },
  {
   "cell_type": "markdown",
   "metadata": {},
   "source": [
    "## Brackets"
   ]
  },
  {
   "cell_type": "markdown",
   "metadata": {},
   "source": [
    "As shown above you can enter data by initializing np.array() with a list in square brackets [].\n",
    "There is more than one method to create a column vector, one shown above and another below."
   ]
  },
  {
   "cell_type": "code",
   "execution_count": 14,
   "metadata": {},
   "outputs": [
    {
     "name": "stdout",
     "output_type": "stream",
     "text": [
      "[[3]\n",
      " [1]\n",
      " [6]\n",
      " [5]]\n"
     ]
    }
   ],
   "source": [
    "D = np.array([[3],[1],[6],[5]])\n",
    "print(D)"
   ]
  },
  {
   "cell_type": "markdown",
   "metadata": {},
   "source": [
    "To create a 2D matrix you can use a nested list for initialization, one list in \\[...] for each row. To access row 2, column 3 of E then index it by using the indices.\n",
    "**Important** Unlike Matlab, Python starts indices from 0 (not 1) so row 2 is indexed by 1, column 3 by index 2 and in general row m by m-1 and column n by n-1."
   ]
  },
  {
   "cell_type": "code",
   "execution_count": 15,
   "metadata": {},
   "outputs": [
    {
     "name": "stdout",
     "output_type": "stream",
     "text": [
      "6\n"
     ]
    }
   ],
   "source": [
    "E = np.array([[1,2,3],[4,5,6]])\n",
    "print(E[1][2])"
   ]
  },
  {
   "cell_type": "code",
   "execution_count": 16,
   "metadata": {},
   "outputs": [],
   "source": [
    "#this produces an indexing error\n",
    "#print(E[3][4])"
   ]
  },
  {
   "cell_type": "markdown",
   "metadata": {},
   "source": [
    "To change part of a matrix you can also use square brackets."
   ]
  },
  {
   "cell_type": "code",
   "execution_count": 17,
   "metadata": {},
   "outputs": [
    {
     "name": "stdout",
     "output_type": "stream",
     "text": [
      "[[ 1  2 10]\n",
      " [ 4  5  6]]\n"
     ]
    }
   ],
   "source": [
    "E[0][2]= 10 #or it is fine to use E[0,2]=10\n",
    "print(E)"
   ]
  },
  {
   "cell_type": "code",
   "execution_count": 18,
   "metadata": {},
   "outputs": [
    {
     "name": "stdout",
     "output_type": "stream",
     "text": [
      "[[ 1  2 10]\n",
      " [ 4  5  6]\n",
      " [ 7  8  9]]\n"
     ]
    }
   ],
   "source": [
    "#add a row\n",
    "E = np.concatenate((E, [[7,8,9]]), axis=0) \n",
    "print(E)"
   ]
  },
  {
   "cell_type": "markdown",
   "metadata": {},
   "source": [
    "## Colon (indexing)\n",
    "You can read about this in the [Numpy reference](https://docs.scipy.org/doc/numpy/reference/arrays.indexing.html)."
   ]
  },
  {
   "cell_type": "code",
   "execution_count": 19,
   "metadata": {},
   "outputs": [
    {
     "data": {
      "text/plain": [
       "array([2, 5, 8])"
      ]
     },
     "execution_count": 19,
     "metadata": {},
     "output_type": "execute_result"
    }
   ],
   "source": [
    "#here the : means \"every row\" because it is before the comma, and 1 indexes the 2nd column.\n",
    "E[:,1]"
   ]
  },
  {
   "cell_type": "code",
   "execution_count": 20,
   "metadata": {},
   "outputs": [
    {
     "data": {
      "text/plain": [
       "array([4, 5, 6])"
      ]
     },
     "execution_count": 20,
     "metadata": {},
     "output_type": "execute_result"
    }
   ],
   "source": [
    "#here the : means \"every column\" because it is after the comma, and 1 indexes the 2nd row.\n",
    "E[1,:]"
   ]
  },
  {
   "cell_type": "code",
   "execution_count": 21,
   "metadata": {},
   "outputs": [
    {
     "data": {
      "text/plain": [
       "array([ 5,  6,  7,  8,  9, 10])"
      ]
     },
     "execution_count": 21,
     "metadata": {},
     "output_type": "execute_result"
    }
   ],
   "source": [
    "#we get a list of consecutive integers by range() and initialize an array with it\n",
    "# NOTE that python indicates the range by start to end+1 (11) rather than start to end.\n",
    "F=np.array(range(5,11))\n",
    "F"
   ]
  },
  {
   "cell_type": "code",
   "execution_count": 22,
   "metadata": {},
   "outputs": [
    {
     "name": "stdout",
     "output_type": "stream",
     "text": [
      "[[ 5  6  7  8  9 10]]\n"
     ]
    },
    {
     "data": {
      "text/plain": [
       "array([[7, 8, 9]])"
      ]
     },
     "execution_count": 22,
     "metadata": {},
     "output_type": "execute_result"
    }
   ],
   "source": [
    "#convert to a 2D matrix with 1 row and as many columns as the original size of F\n",
    "F = F.reshape(1,F.size)\n",
    "print(F)\n",
    "# everything in columns 3, 4 and 5 of F. NOTE that using a colon in the list specify the columns is not allowed.\n",
    "F[:,[2,3,4]]"
   ]
  },
  {
   "cell_type": "code",
   "execution_count": 23,
   "metadata": {},
   "outputs": [
    {
     "name": "stdout",
     "output_type": "stream",
     "text": [
      "[ 3  7 11 15 19]\n"
     ]
    }
   ],
   "source": [
    "#use a step for counting when creating a consecutive integer list from 3 to 20, in steps of 4.\n",
    "# NOTE that range does NOT use colons and the format is (start, end+1, step)\n",
    "G = np.array(range(3, 21, 4))\n",
    "print(G)"
   ]
  },
  {
   "cell_type": "markdown",
   "metadata": {},
   "source": [
    "Python has no analogue to the \"Array Editor\" of Matlab."
   ]
  },
  {
   "cell_type": "markdown",
   "metadata": {},
   "source": [
    "# Lesson 3 - Indexing\n",
    "There is no builtin function in Python to create a magic square so we will input it from scratch."
   ]
  },
  {
   "cell_type": "code",
   "execution_count": 24,
   "metadata": {},
   "outputs": [],
   "source": [
    "A=np.array([[17,24,1,8,15],\n",
    "            [23,5,7,14,16],\n",
    "            [4,6,13,20,22],\n",
    "            [10,12,19,21,3],\n",
    "            [11,18,25,2,9]])"
   ]
  },
  {
   "cell_type": "code",
   "execution_count": 25,
   "metadata": {},
   "outputs": [
    {
     "name": "stdout",
     "output_type": "stream",
     "text": [
      "19\n"
     ]
    }
   ],
   "source": [
    "#store 4th row, 3rd column element of A in B\n",
    "B=A[3,2]\n",
    "print(B)\n"
   ]
  },
  {
   "cell_type": "code",
   "execution_count": 26,
   "metadata": {},
   "outputs": [
    {
     "name": "stdout",
     "output_type": "stream",
     "text": [
      "[10 12 19 21  3]\n"
     ]
    }
   ],
   "source": [
    "#store 4th row of A in C\n",
    "C=A[3,:]\n",
    "print(C)"
   ]
  },
  {
   "cell_type": "code",
   "execution_count": 27,
   "metadata": {},
   "outputs": [
    {
     "name": "stdout",
     "output_type": "stream",
     "text": [
      "[[23  5  7 14 16]\n",
      " [ 4  6 13 20 22]]\n"
     ]
    }
   ],
   "source": [
    "#extract 2nd and 3rd row of A and store in D\n",
    "D=A[[1,2],:]\n",
    "print(D)"
   ]
  },
  {
   "cell_type": "code",
   "execution_count": 28,
   "metadata": {},
   "outputs": [
    {
     "name": "stdout",
     "output_type": "stream",
     "text": [
      "[[23  5  7]\n",
      " [ 4  6 13]]\n"
     ]
    }
   ],
   "source": [
    "#extract columns 1 to 3 of D, for all rows.\n",
    "E=D[:,[0,1,2]]\n",
    "print(E)"
   ]
  },
  {
   "cell_type": "code",
   "execution_count": 29,
   "metadata": {},
   "outputs": [
    {
     "name": "stdout",
     "output_type": "stream",
     "text": [
      "[[23  5  7]\n",
      " [ 4  6 13]]\n"
     ]
    }
   ],
   "source": [
    "#alternative, compact way to extract a range of columns using the list built from range() of consecutive numbers\n",
    "# building a list explicitly as follows is not necessary but can help with debugging because you can see the list.\n",
    "# print([x for x in range(0,3)]) \n",
    "E=D[:,range(0,3)]\n",
    "print(E)"
   ]
  },
  {
   "cell_type": "code",
   "execution_count": 30,
   "metadata": {},
   "outputs": [
    {
     "name": "stdout",
     "output_type": "stream",
     "text": [
      "[[ 17  24   1   8  15]\n",
      " [ 23   5   7  14  16]\n",
      " [  4   6 100  20  22]\n",
      " [ 10  12  19  21   3]\n",
      " [ 11  18  25   2   9]]\n"
     ]
    }
   ],
   "source": [
    "#set the 3rd row,3rd column of A to 100.\n",
    "A[2,2]=100\n",
    "print(A)"
   ]
  },
  {
   "cell_type": "code",
   "execution_count": 31,
   "metadata": {},
   "outputs": [
    {
     "name": "stdout",
     "output_type": "stream",
     "text": [
      "[[ 17  24   1   0  15]\n",
      " [ 23   5   7   0  16]\n",
      " [  4   6 100   0  22]\n",
      " [ 10  12  19   0   3]\n",
      " [ 11  18  25   0   9]]\n"
     ]
    }
   ],
   "source": [
    "#set the 4th column to 0\n",
    "A[:,3]=0\n",
    "print(A)"
   ]
  },
  {
   "cell_type": "markdown",
   "metadata": {},
   "source": [
    "** *You should know enough now to do Exercise A. * **"
   ]
  },
  {
   "cell_type": "markdown",
   "metadata": {},
   "source": [
    "## Lesson 4 - Basic math\n",
    "Some vector/matrix can be accomplished with concise operators (like + or -) while others require a Numpy function."
   ]
  },
  {
   "cell_type": "code",
   "execution_count": 32,
   "metadata": {},
   "outputs": [
    {
     "name": "stdout",
     "output_type": "stream",
     "text": [
      "[6 8]\n"
     ]
    }
   ],
   "source": [
    "#vector addition\n",
    "A=np.array([1,2])\n",
    "B=np.array([5,6])\n",
    "C = A + B\n",
    "print(C)"
   ]
  },
  {
   "cell_type": "code",
   "execution_count": 33,
   "metadata": {},
   "outputs": [
    {
     "name": "stdout",
     "output_type": "stream",
     "text": [
      "[6 8]\n",
      "100\n"
     ]
    }
   ],
   "source": [
    "#transpose to get a column vector from the original row vector.\n",
    "# Note that you can do this even if C was a row vector instead of a 2D matrix. \n",
    "print(C.T)\n",
    "C = np.array([6,8])\n",
    "D = C.T\n",
    "#matrix multiplication, in this case producing a scalar.\n",
    "print(np.matmul(C,D))"
   ]
  },
  {
   "cell_type": "markdown",
   "metadata": {},
   "source": [
    "**np.matmul** for matrix multiplication<br>\n",
    "**np.multiply** for element-wise multiplication<br>\n",
    "**np.dot** for dot product of two arrays<br>\n",
    "**np.divide** for element-wise division<br>\n",
    "**np.power** for raising a matrix to a power<br>\n"
   ]
  },
  {
   "cell_type": "code",
   "execution_count": 34,
   "metadata": {},
   "outputs": [
    {
     "name": "stdout",
     "output_type": "stream",
     "text": [
      "127716\n"
     ]
    }
   ],
   "source": [
    "#simple math doesn't require numpy\n",
    "print(174*734)"
   ]
  },
  {
   "cell_type": "code",
   "execution_count": 35,
   "metadata": {},
   "outputs": [
    {
     "name": "stdout",
     "output_type": "stream",
     "text": [
      "4.0\n"
     ]
    }
   ],
   "source": [
    "#simple math with a scalar variable. NOTE that A is not changed here.\n",
    "A=10\n",
    "print((A*2)/5)\n"
   ]
  },
  {
   "cell_type": "code",
   "execution_count": 36,
   "metadata": {},
   "outputs": [
    {
     "name": "stdout",
     "output_type": "stream",
     "text": [
      "[[10 20 30]\n",
      " [40 50 60]]\n"
     ]
    }
   ],
   "source": [
    "#2D matrix is multiplied elementwise by the scalar A. The 2nd line and indent is for clarity, not required.\n",
    "E=np.array([[1,2,3],\n",
    "            [4,5,6]])\n",
    "J= E*A\n",
    "print(J)"
   ]
  },
  {
   "cell_type": "code",
   "execution_count": 37,
   "metadata": {},
   "outputs": [
    {
     "name": "stdout",
     "output_type": "stream",
     "text": [
      "[[ 9 18 27]\n",
      " [36 45 54]]\n"
     ]
    }
   ],
   "source": [
    "#matrix subtraction\n",
    "K = J - E\n",
    "print(K)"
   ]
  },
  {
   "cell_type": "code",
   "execution_count": 38,
   "metadata": {},
   "outputs": [
    {
     "name": "stdout",
     "output_type": "stream",
     "text": [
      "[[3 2 1]\n",
      " [9 5 6]]\n"
     ]
    }
   ],
   "source": [
    "#create a 2D matrix\n",
    "L=np.array([[3,2,1],[9,5,6]])\n",
    "print(L)"
   ]
  },
  {
   "cell_type": "code",
   "execution_count": 39,
   "metadata": {},
   "outputs": [
    {
     "name": "stdout",
     "output_type": "stream",
     "text": [
      "[[ 3.  9. 27.]\n",
      " [ 4.  9.  9.]]\n"
     ]
    }
   ],
   "source": [
    "#element-wise division\n",
    "print(K/L) "
   ]
  },
  {
   "cell_type": "code",
   "execution_count": 40,
   "metadata": {},
   "outputs": [
    {
     "name": "stdout",
     "output_type": "stream",
     "text": [
      "[[ 3  4  3]\n",
      " [36 25 36]]\n"
     ]
    }
   ],
   "source": [
    "#element-wise multiplication of two matrices with same shape.\n",
    "print(E*L)"
   ]
  },
  {
   "cell_type": "markdown",
   "metadata": {},
   "source": [
    "## Lesson 5 - Basic functions\n",
    "Functions can be used in Python similarly to Matlab."
   ]
  },
  {
   "cell_type": "code",
   "execution_count": 41,
   "metadata": {},
   "outputs": [
    {
     "name": "stdout",
     "output_type": "stream",
     "text": [
      "[45 63 81]\n"
     ]
    }
   ],
   "source": [
    "#sum the columns of K. axis=0 means the vertical direction, axis=1 means horizontal direction\n",
    "print(np.sum(K,axis=0))"
   ]
  },
  {
   "cell_type": "code",
   "execution_count": 42,
   "metadata": {},
   "outputs": [
    {
     "name": "stdout",
     "output_type": "stream",
     "text": [
      "[ 54 135]\n"
     ]
    }
   ],
   "source": [
    "#sum the rows of K.\n",
    "print(np.sum(K,axis=1))"
   ]
  },
  {
   "cell_type": "code",
   "execution_count": 43,
   "metadata": {},
   "outputs": [
    {
     "name": "stdout",
     "output_type": "stream",
     "text": [
      "[25. 35. 45.]\n"
     ]
    }
   ],
   "source": [
    "#find the mean of J (for each column) and store in mj\n",
    "mj = np.mean(J, axis=0)\n",
    "print(mj)"
   ]
  },
  {
   "cell_type": "code",
   "execution_count": 44,
   "metadata": {},
   "outputs": [
    {
     "name": "stdout",
     "output_type": "stream",
     "text": [
      "[[ 9 36]\n",
      " [18 45]\n",
      " [27 54]]\n"
     ]
    }
   ],
   "source": [
    "#transpose of K\n",
    "print(K.T)"
   ]
  },
  {
   "cell_type": "code",
   "execution_count": 45,
   "metadata": {},
   "outputs": [
    {
     "name": "stdout",
     "output_type": "stream",
     "text": [
      "[[0.91986165 0.83922706 0.14160041 0.85850624 0.33325688]\n",
      " [0.95695812 0.88090279 0.09549266 0.77625108 0.18646293]\n",
      " [0.60152213 0.56099421 0.29847316 0.4847583  0.88691766]]\n"
     ]
    }
   ],
   "source": [
    "#create a matrix of random numbers with 3 rows and 5 columns\n",
    "#random is submodule of numpy. Here the function gives 15 element vector with values in [0,1]\n",
    "rows = 3\n",
    "cols = 5\n",
    "R = np.random.rand(rows*cols)\n",
    "#reshape from row vector to 3x5 matrix.Here the 'rows' variable could be replaced by -1 and numpy will calculate it.\n",
    "R = np.reshape(R, (rows,cols))\n",
    "print(R)"
   ]
  },
  {
   "cell_type": "markdown",
   "metadata": {},
   "source": [
    "** *You should know enough now to do Exercise B. * **"
   ]
  },
  {
   "cell_type": "markdown",
   "metadata": {},
   "source": [
    "## Lesson 6 - Logical Operators\n",
    "Most of the logical operators are the same in Python and Matlab. A difference is that 'not' is indicated by the exclamation point (!) rather than tilde (~).<br>\n",
    "- < Greater than\n",
    "- < Less than\n",
    "- == Equal\n",
    "- != Not equal\n",
    "- & AND\n",
    "- | OR\n",
    "- ! NOT\n",
    "<br>\n",
    "In Python, we can apply boolean operations to arrays and the result is a Boolean array which are represented as \"True\" or \"False\" (although these are treated as 1 or 0 respectively for most operations)."
   ]
  },
  {
   "cell_type": "code",
   "execution_count": 46,
   "metadata": {},
   "outputs": [
    {
     "name": "stdout",
     "output_type": "stream",
     "text": [
      "[False  True  True  True  True  True]\n",
      "An element of B is type: <class 'numpy.bool_'>\n"
     ]
    }
   ],
   "source": [
    "A = np.array([1,5,3,4,8,3])\n",
    "B = A>2\n",
    "print(B)\n",
    "print(\"An element of B is type:\", type(B[0]))"
   ]
  },
  {
   "cell_type": "code",
   "execution_count": 47,
   "metadata": {},
   "outputs": [
    {
     "name": "stdout",
     "output_type": "stream",
     "text": [
      "[ True False  True  True False  True]\n"
     ]
    }
   ],
   "source": [
    "C = A<5\n",
    "print(C)"
   ]
  },
  {
   "cell_type": "code",
   "execution_count": 48,
   "metadata": {},
   "outputs": [
    {
     "name": "stdout",
     "output_type": "stream",
     "text": [
      "[False False  True  True False  True]\n"
     ]
    }
   ],
   "source": [
    "D = B & C\n",
    "print(D)"
   ]
  },
  {
   "cell_type": "code",
   "execution_count": 49,
   "metadata": {},
   "outputs": [
    {
     "name": "stdout",
     "output_type": "stream",
     "text": [
      "[3 4 3]\n"
     ]
    }
   ],
   "source": [
    "#extract the array from A where the boolean array D was True (i.e. condition D was met)\n",
    "E = A[D]\n",
    "print(E)"
   ]
  },
  {
   "cell_type": "code",
   "execution_count": 50,
   "metadata": {},
   "outputs": [
    {
     "name": "stdout",
     "output_type": "stream",
     "text": [
      "[3 4 3]\n"
     ]
    }
   ],
   "source": [
    "#can do this extraction in one line without the intermediate arrays.\n",
    "print(A[(A>2) & (A<5)])"
   ]
  },
  {
   "cell_type": "code",
   "execution_count": 51,
   "metadata": {},
   "outputs": [
    {
     "name": "stdout",
     "output_type": "stream",
     "text": [
      "(array([2, 3, 5]),)\n"
     ]
    }
   ],
   "source": [
    "#convert a logical index (D) into a subscript index (F). D is a mask, where 3rd, 4th and 6th values of D are True.\n",
    "F=np.where(D)\n",
    "print(F)"
   ]
  },
  {
   "cell_type": "code",
   "execution_count": 52,
   "metadata": {},
   "outputs": [
    {
     "name": "stdout",
     "output_type": "stream",
     "text": [
      "[3 4 3]\n"
     ]
    }
   ],
   "source": [
    "#These indices can be used to extract the array from A meeting condition D (same result as above)\n",
    "print(A[F])"
   ]
  },
  {
   "cell_type": "code",
   "execution_count": 53,
   "metadata": {},
   "outputs": [],
   "source": [
    "#some data that corresponds to each cat. e.g. age\n",
    "data = np.array([4,14,6,11,3,14,8,17,17,12,10,18])\n",
    "#type of cat (of 3 types)\n",
    "cat = np.array([1,3,2,1,2,2,3,1,3,2,3,1])"
   ]
  },
  {
   "cell_type": "code",
   "execution_count": 54,
   "metadata": {},
   "outputs": [
    {
     "name": "stdout",
     "output_type": "stream",
     "text": [
      "[False False  True False  True  True False False False  True False False]\n"
     ]
    }
   ],
   "source": [
    "#the parentheses are for clarity only. Which cats are type 2?\n",
    "cat2 = (cat == 2)\n",
    "print(cat2)"
   ]
  },
  {
   "cell_type": "code",
   "execution_count": 55,
   "metadata": {},
   "outputs": [
    {
     "name": "stdout",
     "output_type": "stream",
     "text": [
      "[ 6  3 14 12]\n"
     ]
    }
   ],
   "source": [
    "#show the data (age) of type 2 cats.\n",
    "data2 = data[cat2]\n",
    "print(data2)"
   ]
  },
  {
   "cell_type": "code",
   "execution_count": 56,
   "metadata": {},
   "outputs": [
    {
     "name": "stdout",
     "output_type": "stream",
     "text": [
      "8.75\n"
     ]
    }
   ],
   "source": [
    "#find the mean of the data of type 2 cats. NOTE np.average() is equivalent.\n",
    "print(np.mean(data2))"
   ]
  },
  {
   "cell_type": "code",
   "execution_count": 57,
   "metadata": {},
   "outputs": [
    {
     "name": "stdout",
     "output_type": "stream",
     "text": [
      "8.75\n"
     ]
    }
   ],
   "source": [
    "#and here is the same calculation in compact form\n",
    "print(np.average(data[cat==2]))"
   ]
  },
  {
   "cell_type": "markdown",
   "metadata": {},
   "source": [
    "** *You should know enough now to do Exercise C and D. * **"
   ]
  },
  {
   "cell_type": "markdown",
   "metadata": {},
   "source": [
    "## Lesson 7 - Missing Data\n",
    "Missing data (NaNs) in Python are represented with np.nan. There are also a variety of calculators which will ignore missing data including:<br>\n",
    "- np.nansum()\n",
    "- np.nanmean()\n",
    "- np.nanvar()\n",
    "- np.nanstd()"
   ]
  },
  {
   "cell_type": "code",
   "execution_count": 58,
   "metadata": {},
   "outputs": [
    {
     "name": "stdout",
     "output_type": "stream",
     "text": [
      "nan\n"
     ]
    }
   ],
   "source": [
    "print(np.nan)"
   ]
  },
  {
   "cell_type": "code",
   "execution_count": 59,
   "metadata": {},
   "outputs": [
    {
     "name": "stdout",
     "output_type": "stream",
     "text": [
      "[ True False False False False False False  True False  True False False]\n",
      "[ 4. 14.  6. 11.  3. 14.  8. 17. 17. 12. 10. 18.]\n",
      "[nan 14.  6. 11.  3. 14.  8. nan 17. nan 10. 18.]\n"
     ]
    }
   ],
   "source": [
    "#dtype converts this from a integer to boolean array\n",
    "err = np.array([1,0,0,0,0,0,0,1,0,1,0,0],dtype=bool)\n",
    "print(err)\n",
    "#Let's set all of the data with errors to np.nan so that they will be ignored in subsequent calc\n",
    "# first convert the data to float type which is compatible with np.nan insertion (unlike integer arrays)\n",
    "newdat = np.array(data,dtype=float)\n",
    "print(newdat)\n",
    "# insert the np.nan where the errors are according to mask err.\n",
    "newdat[err==True] = np.nan\n",
    "print(newdat)"
   ]
  },
  {
   "cell_type": "code",
   "execution_count": 60,
   "metadata": {},
   "outputs": [
    {
     "name": "stdout",
     "output_type": "stream",
     "text": [
      "[ 6.  3. 14. nan]\n"
     ]
    }
   ],
   "source": [
    "#Now the extracted data of cat type 2 will have NaN in it\n",
    "data2 = newdat[cat2]\n",
    "print(data2)"
   ]
  },
  {
   "cell_type": "code",
   "execution_count": 61,
   "metadata": {},
   "outputs": [
    {
     "name": "stdout",
     "output_type": "stream",
     "text": [
      "nan\n"
     ]
    }
   ],
   "source": [
    "#If use the ordinary mean() we get \"nan\" meaning \"can't calculate on this array\"\n",
    "print(np.mean(data2))"
   ]
  },
  {
   "cell_type": "code",
   "execution_count": 62,
   "metadata": {},
   "outputs": [
    {
     "name": "stdout",
     "output_type": "stream",
     "text": [
      "7.666666666666667\n"
     ]
    }
   ],
   "source": [
    "#Therefore we use the nanmean() instead\n",
    "print(np.nanmean(data2))"
   ]
  },
  {
   "cell_type": "markdown",
   "metadata": {},
   "source": [
    "## Lesson 8 - Basic Graphs\n",
    "There are multiple graphing options available in Python. The most common 2D plotting option is Matplotlib, and it is also the most similar to Matlab plot().\n"
   ]
  },
  {
   "cell_type": "code",
   "execution_count": 63,
   "metadata": {},
   "outputs": [
    {
     "name": "stdout",
     "output_type": "stream",
     "text": [
      "[0.         0.21666156 0.43332312 0.64998469 0.86664625 1.08330781\n",
      " 1.29996937 1.51663094 1.7332925  1.94995406 2.16661562 2.38327719\n",
      " 2.59993875 2.81660031 3.03326187 3.24992343 3.466585   3.68324656\n",
      " 3.89990812 4.11656968 4.33323125 4.54989281 4.76655437 4.98321593\n",
      " 5.1998775  5.41653906 5.63320062 5.84986218 6.06652374 6.28318531]\n"
     ]
    }
   ],
   "source": [
    "#sequence of 30 numbers from 0 to 2PI, i.e. the radian argument\n",
    "x = np.linspace(0, 2*np.pi, num=30)\n",
    "print(x)"
   ]
  },
  {
   "cell_type": "code",
   "execution_count": 64,
   "metadata": {},
   "outputs": [
    {
     "name": "stdout",
     "output_type": "stream",
     "text": [
      "[ 0.00000000e+00  2.14970440e-01  4.19889102e-01  6.05174215e-01\n",
      "  7.62162055e-01  8.83512044e-01  9.63549993e-01  9.98533414e-01\n",
      "  9.86826523e-01  9.28976720e-01  8.27688998e-01  6.87699459e-01\n",
      "  5.15553857e-01  3.19301530e-01  1.08119018e-01 -1.08119018e-01\n",
      " -3.19301530e-01 -5.15553857e-01 -6.87699459e-01 -8.27688998e-01\n",
      " -9.28976720e-01 -9.86826523e-01 -9.98533414e-01 -9.63549993e-01\n",
      " -8.83512044e-01 -7.62162055e-01 -6.05174215e-01 -4.19889102e-01\n",
      " -2.14970440e-01 -2.44929360e-16]\n"
     ]
    }
   ],
   "source": [
    "#corresponding array of sin() values.\n",
    "y = np.sin(x)\n",
    "print(y)"
   ]
  },
  {
   "cell_type": "code",
   "execution_count": 65,
   "metadata": {},
   "outputs": [
    {
     "name": "stdout",
     "output_type": "stream",
     "text": [
      "[ 1.5         1.49413796  1.47662056  1.44765317  1.40757542  1.35685718\n",
      "  1.29609307  1.22599549  1.14738628  1.06118707  0.96840844  0.87013816\n",
      "  0.76752834  0.661782    0.55413891  0.44586109  0.338218    0.23247166\n",
      "  0.12986184  0.03159156 -0.06118707 -0.14738628 -0.22599549 -0.29609307\n",
      " -0.35685718 -0.40757542 -0.44765317 -0.47662056 -0.49413796 -0.5       ]\n"
     ]
    }
   ],
   "source": [
    "z = 0.5 + np.cos(x/2)\n",
    "print(z)"
   ]
  },
  {
   "cell_type": "code",
   "execution_count": 66,
   "metadata": {},
   "outputs": [
    {
     "data": {
      "text/plain": [
       "<matplotlib.figure.Figure at 0x109b276d8>"
      ]
     },
     "metadata": {},
     "output_type": "display_data"
    }
   ],
   "source": [
    "import matplotlib.pyplot as plt\n",
    "# Using \"tab:...\" for colors gives alternate colors that are easier on the eyes.\n",
    "#plt.plot(x, y, 'b-o', color='tab:blue')\n",
    "#plt.plot(x, z, 'r--', color='tab:red')\n",
    "# NOTE that the marker conventions are nearly identical.\n",
    "plt.plot(x, y, 'b-o')\n",
    "plt.plot(x, z, 'r--')\n",
    "plt.xlabel('x')\n",
    "plt.title('a couple of lines')\n",
    "#note that the legend items need to be in a list\n",
    "plt.legend(['y=sin(x)','z=0.5+cos(x/2)'])\n",
    "# Save figure to file.\n",
    "plt.savefig('Figure.png')  #In JN, must save your figure before using the show() command\n",
    "#The next line creates a interactive popup if it is in your script (instead of JN where it inserts it in the notebook)\n",
    "plt.show()\n",
    "plt.close()  #good form to close (clean up) at end otherwise you might have bad effects on following figures."
   ]
  },
  {
   "cell_type": "markdown",
   "metadata": {},
   "source": [
    "### Plot some data\n",
    "Make sure the file lesson2.mat is in a subdirectory of your current directory called 'matlab_exercises' and then run the following. You should see a 2D matrix with 3 columns & 10 rows."
   ]
  },
  {
   "cell_type": "code",
   "execution_count": 67,
   "metadata": {},
   "outputs": [
    {
     "name": "stdout",
     "output_type": "stream",
     "text": [
      "[[ 3.62658284  5.44161622  1.28020596]\n",
      " [ 5.4515811   2.99572721  3.24199528]\n",
      " [ 2.82336691  6.07148683  3.46812012]\n",
      " [ 8.36637164  7.4353431   3.28143498]\n",
      " [ 3.72720823  3.96233645  4.32244956]\n",
      " [ 4.22786263  6.28699501  3.20348091]\n",
      " [ 6.13353642  6.88100213  4.14350853]\n",
      " [ 4.11856292  2.60940564 -0.16442281]\n",
      " [ 3.80870319  2.83855335  1.9643788 ]\n",
      " [ 2.33530107  5.85672144  1.71790886]]\n"
     ]
    }
   ],
   "source": [
    "import scipy.io as sio\n",
    "import os\n",
    "import matplotlib.pyplot as plt\n",
    "import numpy as np\n",
    "\n",
    "#squeeze_me will turn the single column 2D matrix into a single row vector.\n",
    "mat_contents = sio.loadmat( 'matlab_exercises' + os.sep + 'lesson2.mat', squeeze_me=True)\n",
    "data = mat_contents['data']\n",
    "print(data)"
   ]
  },
  {
   "cell_type": "markdown",
   "metadata": {},
   "source": [
    "To first look at all of the data, we could try a simple plot. The row index will be *x* and data values will be *y*. If we use marker *bo* we will see only points, whereas with *b-o* we'll see separated lines for each column."
   ]
  },
  {
   "cell_type": "code",
   "execution_count": 68,
   "metadata": {},
   "outputs": [
    {
     "data": {
      "text/plain": [
       "[<matplotlib.lines.Line2D at 0x180ca8d0b8>,\n",
       " <matplotlib.lines.Line2D at 0x180ca8d1d0>,\n",
       " <matplotlib.lines.Line2D at 0x180ca8d320>]"
      ]
     },
     "execution_count": 68,
     "metadata": {},
     "output_type": "execute_result"
    },
    {
     "data": {
      "image/png": "[encoded data removed]",
      "text/plain": [
       "<matplotlib.figure.Figure at 0x10aa980b8>"
      ]
     },
     "metadata": {},
     "output_type": "display_data"
    }
   ],
   "source": [
    "plt.plot(data, 'bo')"
   ]
  },
  {
   "cell_type": "markdown",
   "metadata": {},
   "source": [
    "We could look for a trend by plotting a regression line. Let's assume the columns are repeated trials and the rows are discrete conditions (like birth year), so we average across columns."
   ]
  },
  {
   "cell_type": "code",
   "execution_count": 69,
   "metadata": {},
   "outputs": [
    {
     "name": "stdout",
     "output_type": "stream",
     "text": [
      "range(0, 10)\n",
      "[3.44946834 3.89643453 4.12099129 6.36104991 4.00399808 4.57277952\n",
      " 5.71934903 2.18784858 2.87054511 3.30331046]\n"
     ]
    },
    {
     "data": {
      "text/plain": [
       "[<matplotlib.lines.Line2D at 0x180cb34ac8>]"
      ]
     },
     "execution_count": 69,
     "metadata": {},
     "output_type": "execute_result"
    },
    {
     "data": {
      "image/png": "[encoded data removed]",
      "text/plain": [
       "<matplotlib.figure.Figure at 0x180ca67da0>"
      ]
     },
     "metadata": {},
     "output_type": "display_data"
    }
   ],
   "source": [
    "#obtain the fit parameters from linear regression\n",
    "# x will be the row indices\n",
    "x = range(data.shape[0])\n",
    "print(x)\n",
    "# for each row, find average across columns to make a 1D vector.\n",
    "avg = np.average(data, axis=1)\n",
    "print(avg)\n",
    "fit = np.polyfit(x, avg, 1)\n",
    "#obtain the function that represents the fit and can generate new values.\n",
    "fit_fn = np.poly1d(fit)\n",
    "#plot fit as red line with triangles.\n",
    "plt.plot(x, fit_fn(x), 'r-^')\n"
   ]
  },
  {
   "cell_type": "markdown",
   "metadata": {},
   "source": [
    "Let's improve this with error bars, in this case standard deviations across each row of data."
   ]
  },
  {
   "cell_type": "code",
   "execution_count": 70,
   "metadata": {},
   "outputs": [
    {
     "name": "stdout",
     "output_type": "stream",
     "text": [
      "[1.70349856 1.1042411  1.40410145 2.21053909 0.24478539 1.28224817\n",
      " 1.1553156  1.77374828 0.75328203 1.82304215]\n"
     ]
    },
    {
     "data": {
      "text/plain": [
       "<Container object of 3 artists>"
      ]
     },
     "execution_count": 70,
     "metadata": {},
     "output_type": "execute_result"
    },
    {
     "data": {
      "image/png": "[encoded data removed]",
      "text/plain": [
       "<matplotlib.figure.Figure at 0x109b27048>"
      ]
     },
     "metadata": {},
     "output_type": "display_data"
    }
   ],
   "source": [
    "err = np.std(data, axis=1)\n",
    "print(err)\n",
    "plt.errorbar(x, fit_fn(x), yerr=err, fmt='g-')"
   ]
  },
  {
   "cell_type": "markdown",
   "metadata": {},
   "source": [
    "Now let's put all of this together and plot on a single graph. \n",
    "**Warning**: It's a quirk of JN that you must put all the plotting commands in a single cell in order to see them overlaid on one plot."
   ]
  },
  {
   "cell_type": "code",
   "execution_count": 71,
   "metadata": {},
   "outputs": [
    {
     "data": {
      "image/png": "[encoded data removed]",
      "text/plain": [
       "<matplotlib.figure.Figure at 0x180cbe2278>"
      ]
     },
     "metadata": {},
     "output_type": "display_data"
    }
   ],
   "source": [
    "plt.plot(data, 'bo')\n",
    "x = np.arange(data.shape[0])\n",
    "avg = np.average(data, axis=1)\n",
    "fit = np.polyfit(x, avg, 1)\n",
    "fit_fn = np.poly1d(fit)\n",
    "plt.plot(x, fit_fn(x), 'r-^')\n",
    "err = np.std(data, axis=1)\n",
    "plt.errorbar(x, fit_fn(x), yerr=err, fmt='g-')\n",
    "plt.savefig('Figure-Lesson8.png')\n",
    "plt.show()  \n",
    "plt.close()"
   ]
  },
  {
   "cell_type": "markdown",
   "metadata": {},
   "source": [
    "Plot a new figure with subplots that will be called Figure 2."
   ]
  },
  {
   "cell_type": "code",
   "execution_count": 72,
   "metadata": {},
   "outputs": [
    {
     "data": {
      "image/png": "[encoded data removed]",
      "text/plain": [
       "<matplotlib.figure.Figure at 0x180ca97668>"
      ]
     },
     "metadata": {},
     "output_type": "display_data"
    }
   ],
   "source": [
    "#arrangement of subplots\n",
    "nrows = 2\n",
    "ncols = 1\n",
    "idx = 1\n",
    "#row 1 subplot\n",
    "plt.subplot(nrows, ncols, idx)\n",
    "plt.plot(data,'b*')\n",
    "plt.title('Raw data')\n",
    "\n",
    "#row 2 subplot\n",
    "plt.subplot(nrows, ncols, idx+1)\n",
    "plt.bar(x, fit_fn(x), color='r')\n",
    "plt.show()\n",
    "plt.close()"
   ]
  },
  {
   "cell_type": "markdown",
   "metadata": {},
   "source": [
    "Now repeat this except with error bars (standard deviation) in color green with star mid-point markers. The x-axis limits are also set so that the lower bars line up with the points in the upper plot."
   ]
  },
  {
   "cell_type": "code",
   "execution_count": 73,
   "metadata": {},
   "outputs": [
    {
     "data": {
      "image/png": "[encoded data removed]",
      "text/plain": [
       "<matplotlib.figure.Figure at 0x180cd171d0>"
      ]
     },
     "metadata": {},
     "output_type": "display_data"
    }
   ],
   "source": [
    "#row 1 subplot\n",
    "plt.subplot(nrows, ncols, idx)\n",
    "plt.plot(data,'b*')\n",
    "plt.title('Raw data')\n",
    "plt.xlim((-1,10))\n",
    "\n",
    "#row 2 subplot\n",
    "plt.subplot(nrows, ncols, idx+1)\n",
    "err = np.std(data, axis=1)\n",
    "plt.bar(x, fit_fn(x), color='r')\n",
    "plt.errorbar(x, fit_fn(x), err, fmt='*g')\n",
    "plt.xlim((-1,10))  #must set limits for each subplot or else it uses defaults.\n",
    "\n",
    "plt.show()\n",
    "plt.close()"
   ]
  },
  {
   "cell_type": "markdown",
   "metadata": {},
   "source": [
    "If you want a simple way to put error bars on your bar graph (without colored errors) then use the yerr option of *bar*. Save the result as 'Figure2-Lesson8.png'"
   ]
  },
  {
   "cell_type": "code",
   "execution_count": 74,
   "metadata": {},
   "outputs": [
    {
     "data": {
      "image/png": "[encoded data removed]",
      "text/plain": [
       "<matplotlib.figure.Figure at 0x180cd377b8>"
      ]
     },
     "metadata": {},
     "output_type": "display_data"
    }
   ],
   "source": [
    "#row 1 subplot\n",
    "plt.subplot(nrows, ncols, idx)\n",
    "plt.plot(data,'b*')\n",
    "plt.title('Raw data')\n",
    "plt.xlim((-1,10))\n",
    "\n",
    "#row 2 subplot\n",
    "plt.subplot(nrows, ncols, idx+1)\n",
    "err = np.std(data, axis=1)\n",
    "plt.bar(x, fit_fn(x), color='r', yerr=err)\n",
    "plt.title('Mean data')\n",
    "plt.tight_layout() #use this to adjust the spacing around subplots.\n",
    "plt.xlim((-1,10))  #must set limits for each subplot or else it uses defaults.\n",
    "plt.savefig('Figure2-Lesson8.png')\n",
    "plt.show()\n",
    "plt.close()"
   ]
  },
  {
   "cell_type": "markdown",
   "metadata": {},
   "source": [
    "** *You should know enough now to do Exercise E. * **"
   ]
  },
  {
   "cell_type": "markdown",
   "metadata": {},
   "source": [
    "## Lesson 9 - Basic scripts\n",
    "Writing and using scripts is the main way the typical non-programmer scientist would use Python. There are differences of opinion about the meaning of script but for my purposes it is\n",
    "- a human-readable text file containing Python commands.\n",
    "- simple structure with only a small number of functions.\n",
    "<br>\n"
   ]
  },
  {
   "cell_type": "markdown",
   "metadata": {},
   "source": [
    "You will write Python scripts with a texteditor (e.g. Atom, Notepad++) or an Integrated Development Environment (IDE) such as Spyder, which is built into the Anaconda package.<br>\n",
    "The following descriptions will assume you are using a texteditor (not an IDE) as this is the most common choice.<br>\n",
    "Comment lines begin with \"#\" hashtag symbol.\n",
    "You will run scripts by opening the Terminal program (or alternatives like iTerm2) and typing <br>\n",
    "<b>python <i>scriptname.py</i></b><br>\n",
    "This assumes that python has been installed and can be found (\"on the path\") within terminal, and that in your terminal session your current working directory is the same as the script named <i>scriptname.py</i>. This keeps things simple but you may instead want to specify the fullpathname of the script. An example on MacOS where the script is on your Desktop would be:<br>\n",
    "<b>python /Users/pradau/Desktop/myscript.py</b><br>\n",
    "\n",
    "To avoid the hassle of typing python at the start each time you should put the \"shebang\" at the start of your script to indicate this is a Python script. e.g.<br>\n",
    "<b>#!/usr/bin/env python</b><br>\n",
    "In the terminal, change the permissions so that the script is an \"executable\" on your system.\n",
    "<br>\n",
    "<b>chmod a+x myscript.py</b><br>\n",
    "This permits you to run the script as follows:<br>\n",
    "<b>./myscript.py</b>"
   ]
  },
  {
   "cell_type": "markdown",
   "metadata": {},
   "source": [
    "Unlike Matlab, you will not need to use the semi-colon (;) to suppress showing the result of each line. This is the default behavior in Python. Instead you will need to use a print() statement to show the variable or result of the calculation. (NOTE that in JN these are displayed by default.)<br>\n",
    "Here is a simple script using data of a previous lession to \n",
    "- find the mean of the data in each of the 3 categories\n",
    "- put all of these into a variable mdat\n",
    "- plot the results. <br>\n",
    "\n",
    "Enter these into your text editor and save it as \"myscript.py\""
   ]
  },
  {
   "cell_type": "code",
   "execution_count": 75,
   "metadata": {},
   "outputs": [
    {
     "name": "stdout",
     "output_type": "stream",
     "text": [
      "[0. 0. 0.]\n",
      "[12.5   8.75 12.25]\n"
     ]
    },
    {
     "data": {
      "image/png": "[encoded data removed]",
      "text/plain": [
       "<matplotlib.figure.Figure at 0x10a8416a0>"
      ]
     },
     "metadata": {},
     "output_type": "display_data"
    }
   ],
   "source": [
    "#!/usr/bin/env python\n",
    "# this script plots the mean of data for each category\n",
    "import numpy as np\n",
    "import matplotlib.pyplot as plt\n",
    "data=np.array([4, 14, 6, 11, 3, 14, 8, 17, 17, 12, 10, 18])\n",
    "cat = np.array([1, 3, 2, 1, 2, 2, 3, 1, 3, 2, 3, 1])\n",
    "#must initialize the array\n",
    "mdat = np.zeros(3)\n",
    "print(mdat)\n",
    "mdat[0] = np.mean(data[cat==1])\n",
    "mdat[1] = np.mean(data[cat==2])\n",
    "mdat[2] = np.mean(data[cat==3])\n",
    "print(mdat)\n",
    "x = range(0,3)\n",
    "plt.plot(x, mdat,'r-*')\n",
    "plt.title('Mean of data for each category')\n",
    "plt.savefig('Figure-script.png')  \n"
   ]
  },
  {
   "cell_type": "markdown",
   "metadata": {},
   "source": [
    "## Lesson 10 - Flow Control\n",
    "### If...else"
   ]
  },
  {
   "cell_type": "code",
   "execution_count": 76,
   "metadata": {},
   "outputs": [
    {
     "name": "stdout",
     "output_type": "stream",
     "text": [
      "1\n"
     ]
    }
   ],
   "source": [
    "#Python doesn't require an 'end' for the end of a block (e.g. if). This is accomplished by indentation.\n",
    "A = 10\n",
    "if A > 5:\n",
    "    B = 1\n",
    "else:\n",
    "    B = 0\n",
    "print(B)"
   ]
  },
  {
   "cell_type": "code",
   "execution_count": 77,
   "metadata": {},
   "outputs": [
    {
     "name": "stdout",
     "output_type": "stream",
     "text": [
      "No problem with array lengths.\n"
     ]
    }
   ],
   "source": [
    "#some error checking we could have used in the earlier lesson\n",
    "if len(cat) != len(data):\n",
    "    print('ERROR: Data and categories are not the same length')\n",
    "    sys.exit(1)  #This means exit with a return code indicating a problem.\n",
    "else:\n",
    "    print('No problem with array lengths.')"
   ]
  },
  {
   "cell_type": "markdown",
   "metadata": {},
   "source": [
    "### For"
   ]
  },
  {
   "cell_type": "code",
   "execution_count": 78,
   "metadata": {},
   "outputs": [
    {
     "name": "stdout",
     "output_type": "stream",
     "text": [
      "[2]\n",
      "[2 4]\n",
      "[2 4 6]\n",
      "[2 4 6 8]\n"
     ]
    }
   ],
   "source": [
    "#This is a \"non-pythonic\" way to achieve the desired result. The loop is relatively slow.\n",
    "# Setting the data type to integer is not usually necessary but with numpy the default is float.\n",
    "#initialize an empty array of 0 elements\n",
    "A = np.empty(0,dtype=int)  \n",
    "for i in range(1,5):\n",
    "    A = np.append(A, [i*2])\n",
    "    print(A)    "
   ]
  },
  {
   "cell_type": "code",
   "execution_count": 79,
   "metadata": {},
   "outputs": [
    {
     "name": "stdout",
     "output_type": "stream",
     "text": [
      "[2 4 6 8]\n"
     ]
    }
   ],
   "source": [
    "#A pythonic way to do this is to use a list comprehension to create the sequence that initializes the array.\n",
    "A = np.array([i*2 for i in range(1,5)])\n",
    "print(A)"
   ]
  },
  {
   "cell_type": "code",
   "execution_count": 80,
   "metadata": {},
   "outputs": [
    {
     "name": "stdout",
     "output_type": "stream",
     "text": [
      "[ 4 11 17 18]\n",
      "[12.5   8.75 12.25]\n"
     ]
    }
   ],
   "source": [
    "#Similarly we can create for loop to calculate the entries of mdat\n",
    "#some data that corresponds to each cat. e.g. age\n",
    "data = np.array([4,14,6,11,3,14,8,17,17,12,10,18])\n",
    "#type of cat (of 3 types)\n",
    "cat = np.array([1,3,2,1,2,2,3,1,3,2,3,1])\n",
    "print(data[cat==1])\n",
    "for i in range(0,3):\n",
    "    # note the +1 because our indexing is base 0 but the categories are 1,2,3 (no 0)\n",
    "    mdat[i] = np.mean(data[cat==i+1])\n",
    "print(mdat)\n"
   ]
  },
  {
   "cell_type": "code",
   "execution_count": 81,
   "metadata": {},
   "outputs": [
    {
     "name": "stdout",
     "output_type": "stream",
     "text": [
      "[12.5   8.75 12.25]\n"
     ]
    }
   ],
   "source": [
    "#Here is the pythonic (faster) alternative.\n",
    "mdat = np.array([np.mean(data[cat==i+1]) for i in range(0,3)])\n",
    "print(mdat)\n"
   ]
  },
  {
   "cell_type": "markdown",
   "metadata": {},
   "source": [
    "### Switch\n",
    "There is no direct parallel to switch. This simple example could be accomplished with a Python dictionary but in the real case where there are several lines of code for each case, the typical solution would be \"if...elif...else\"\n"
   ]
  },
  {
   "cell_type": "code",
   "execution_count": 82,
   "metadata": {},
   "outputs": [
    {
     "name": "stdout",
     "output_type": "stream",
     "text": [
      "A is three\n"
     ]
    }
   ],
   "source": [
    "A=3\n",
    "if A == 1:\n",
    "    print('A is one')\n",
    "elif A == 3:\n",
    "    print('A is three')\n",
    "elif A == 5:\n",
    "    print('A is five')\n",
    "else:\n",
    "    print('A is not one or three or five')"
   ]
  },
  {
   "cell_type": "markdown",
   "metadata": {},
   "source": [
    "### While"
   ]
  },
  {
   "cell_type": "code",
   "execution_count": 83,
   "metadata": {},
   "outputs": [
    {
     "name": "stdout",
     "output_type": "stream",
     "text": [
      "-4\n",
      "-3\n",
      "-2\n",
      "-1\n",
      "0\n",
      "1\n",
      "2\n"
     ]
    }
   ],
   "source": [
    "x = 1\n",
    "y = -5\n",
    "while x==1:\n",
    "    y +=1\n",
    "    print(y)\n",
    "    if y > 1:\n",
    "        x = 2\n",
    "        "
   ]
  },
  {
   "cell_type": "markdown",
   "metadata": {},
   "source": [
    "### Try ... Except\n",
    "The python version of Try...catch in Matlab is Try...Except. This has the identical purpose of catching errors that would otherwise cause the system to throw an error and exit.<br>\n",
    "Note that it is better to use <b>with</b> if you are working with files to provide a context manager that handles errors."
   ]
  },
  {
   "cell_type": "code",
   "execution_count": 84,
   "metadata": {},
   "outputs": [
    {
     "name": "stdout",
     "output_type": "stream",
     "text": [
      "[ 1  2  3  4  5  6  7  8  9 10]\n",
      "[1 2 3 4 5]\n",
      "[2.]\n",
      "[2. 4.]\n",
      "[2. 4. 6.]\n",
      "[2. 4. 6. 8.]\n",
      "[ 2.  4.  6.  8. 10.]\n",
      "B is too small\n"
     ]
    }
   ],
   "source": [
    "A = np.array(range(1,11))\n",
    "B = np.array(range(1,6))\n",
    "C = np.empty(0)\n",
    "print(A)\n",
    "print(B)\n",
    "#remember the base 0 indexing.\n",
    "for i in range(0,len(A)):\n",
    "    try:\n",
    "        C = np.append(C,A[i] + B[i])\n",
    "        print(C)\n",
    "    except:\n",
    "        print('B is too small')\n",
    "        #sys.exit(1)  #We would use exit(1) to end the script with an error\n",
    "        break  #use break to just exit the loop without quitting or returning an error code"
   ]
  },
  {
   "cell_type": "markdown",
   "metadata": {},
   "source": [
    "## Lesson 11 - Functions\n",
    "The syntax for Python functions is slightly different than Matlab. In this example the function is <b>nearest()</b>. In the body of the script it would be called like this:<br>\n",
    "<b>index = nearest(vector, point)</b>\n",
    "\n"
   ]
  },
  {
   "cell_type": "code",
   "execution_count": 85,
   "metadata": {},
   "outputs": [
    {
     "name": "stdout",
     "output_type": "stream",
     "text": [
      "[-5 -4 -3 -2 -1  0  1  2  3  4]\n",
      "[30.  28.5 27.  25.5 24.  22.5 21.  19.5 18.  16.5]\n",
      "df [35.  32.5 30.  27.5 25.  22.5 20.  17.5 15.  12.5]\n",
      "nearest index 9\n"
     ]
    }
   ],
   "source": [
    "def nearest(vector, point):\n",
    "    ''' this function finds the index of the number in the vector which is closest in absolute terms to the \n",
    "    point. If there is more than one match, only the 1st is returned. (This is the docstring)'''\n",
    "    df = np.abs(vector - point)\n",
    "    print('df',df)\n",
    "    ind = np.argmin(df) #argmin() finds the index where df is minimum. Only first occurrence returned.\n",
    "    return ind\n",
    "    \n",
    "vector = np.array(range(-5,5))\n",
    "point = np.array(range(20,10,-1))*1.5\n",
    "print(vector)\n",
    "print(point)\n",
    "print('nearest index', nearest(vector,point))"
   ]
  },
  {
   "cell_type": "markdown",
   "metadata": {},
   "source": [
    "### Paths\n",
    "When your program needs to check paths you will want to use the module <b>os</b>.\n"
   ]
  },
  {
   "cell_type": "code",
   "execution_count": 86,
   "metadata": {},
   "outputs": [
    {
     "name": "stdout",
     "output_type": "stream",
     "text": [
      "/Users/pradau/Dropbox/ChildrensHospital/scripts/PythonIntroNotebooks/python_for_psychologists\n"
     ]
    }
   ],
   "source": [
    "import os\n",
    "#print the current working directory\n",
    "print(os.getcwd())"
   ]
  },
  {
   "cell_type": "code",
   "execution_count": 87,
   "metadata": {},
   "outputs": [
    {
     "name": "stdout",
     "output_type": "stream",
     "text": [
      "/Users/Shared/anaconda3/anaconda3/bin:/Users/Shared/anaconda3/anaconda3/bin:/Users/Shared/anaconda3/bin:/Users/pradau/fsl/bin:/usr/bin:/bin:/usr/sbin:/sbin:/usr/local/bin:/opt/X11/bin:/usr/local/munki:/Users/pradau/abin\n"
     ]
    }
   ],
   "source": [
    "#to see the environment variable PATH where terminal will look for files. \n",
    "print(os.getenv(\"PATH\"))"
   ]
  },
  {
   "cell_type": "markdown",
   "metadata": {},
   "source": [
    "** *You should know enough now to do Exercise F. * **"
   ]
  },
  {
   "cell_type": "markdown",
   "metadata": {},
   "source": [
    "## Lesson 12 - More about variables\n",
    "### Saving and loading your data\n",
    "The easiest way to load and save (i.e. read and write in typical terminology) data is to use the Pandas module. This will take care of most of the details that you would need to do yourself if you use the lower level functions in Python (e.g. read() and write()).\n"
   ]
  },
  {
   "cell_type": "code",
   "execution_count": 88,
   "metadata": {},
   "outputs": [
    {
     "name": "stdout",
     "output_type": "stream",
     "text": [
      "        Data\n",
      "0          2\n",
      "1        3.5\n",
      "2      Hello\n",
      "3  [5, 2, 3]\n"
     ]
    }
   ],
   "source": [
    "import pandas as pd\n",
    "import numpy as np\n",
    "x = 2\n",
    "y = 3.5\n",
    "z = 'Hello'\n",
    "data = np.array([5,2,3])\n",
    "df = pd.DataFrame()\n",
    "# append each data item as a new row\n",
    "#ignore_index ensures the index remains sequential after each append.\n",
    "df = df.append({'Data':x}, ignore_index=True)\n",
    "df = df.append({'Data':y}, ignore_index=True)\n",
    "df = df.append({'Data':z}, ignore_index=True)\n",
    "df = df.append({'Data':data}, ignore_index=True)\n",
    "print(df)\n",
    "# Save it to file called \"some_stuff.csv\" in comma delimited (csv) format.\n",
    "#  index field is set to False so that we don't have row indices saved in the file.\n",
    "df.to_csv('some_stuff.csv', index=False)"
   ]
  },
  {
   "cell_type": "code",
   "execution_count": 89,
   "metadata": {},
   "outputs": [
    {
     "name": "stdout",
     "output_type": "stream",
     "text": [
      "      Data\n",
      "0      2.0\n",
      "1      3.5\n",
      "2    Hello\n",
      "3  [5 2 3]\n"
     ]
    }
   ],
   "source": [
    "#to read this data back into a new dataframe\n",
    "dfnew = pd.read_csv('some_stuff.csv')\n",
    "print(dfnew)"
   ]
  },
  {
   "cell_type": "code",
   "execution_count": 90,
   "metadata": {},
   "outputs": [],
   "source": [
    "#there are many options for reading/writing DataFrames \n",
    "# e.g. writing a tab delimited file (sep) with no index in the first column and no column title\n",
    "dfnew.to_csv('mydata.txt', sep='\\t', index=False, header=False)"
   ]
  },
  {
   "cell_type": "markdown",
   "metadata": {},
   "source": [
    "The method shown above where we appended each kind of data in a single column is generally less desirable than creating a 2D dataframe where each column is a type, and each row has the values for these types. Here's an example of creating two rows in a dataframe with multiple types.\n"
   ]
  },
  {
   "cell_type": "code",
   "execution_count": 91,
   "metadata": {},
   "outputs": [
    {
     "name": "stdout",
     "output_type": "stream",
     "text": [
      "           data   x     y      z\n",
      "0     [5, 2, 3]   2   3.5  Hello\n",
      "1  [13, 15, 17]  25 -25.7  World\n"
     ]
    }
   ],
   "source": [
    "x2 = 25\n",
    "y2 = -25.7\n",
    "z2 = 'World'\n",
    "data2 = np.array([13,15,17])\n",
    "#note that we have to make the numpy array into a list with the [] so it is the initialization knows it is\n",
    "#  to go into a single cell.\n",
    "row1 = {'x':x, 'y':y, 'z':z, 'data':[data]}\n",
    "row2 = {'x':x2, 'y':y2, 'z':z2, 'data':data2}\n",
    "\n",
    "df3 = pd.DataFrame(row1)\n",
    "df3 = df3.append(row2, ignore_index=True)\n",
    "print(df3)"
   ]
  },
  {
   "cell_type": "markdown",
   "metadata": {},
   "source": [
    "The difficulty with inserting arrays into DataFrame cells is that they are converted into strings which will require parsing for use in calculations. One would deal this in either of two ways. The first is to create a separate Dataframe with a column (or row) for each array. Then each cell would have a integer or float type and the entire column could be converted from a Series to numpy array.<br>\n",
    "This is fine if the number of elements is fixed for all the columns. But for data with arrays that may vary in length or generally for more flexibility, the alternative method is to use a list of dictionaries. The length of the list, and the size and shape of each dictionary can vary, therefore this method is useful for less structured data. Here's an example, with a 3rd record (set of data) added with a different number of elements to illustrate the benefit of this method."
   ]
  },
  {
   "cell_type": "code",
   "execution_count": 92,
   "metadata": {},
   "outputs": [
    {
     "name": "stdout",
     "output_type": "stream",
     "text": [
      "[{'y': 3.5, 'z': 'Hello', 'data': [5.0, 2.0, 3.0], 'x': 2}, {'y': -25.7, 'z': 'World', 'data': [13.0, 15.0, 17.0], 'x': 25}, {'data': [13.0, 15.0, 17.0, 25.7, 34.6, 88.0], 'y': 55.7, 'z': 'Third record.', 'zz': ['an', 'example', 'list'], 'x': 26.9}]\n"
     ]
    }
   ],
   "source": [
    "x3 = 26.9\n",
    "y3 = 55.7\n",
    "z3 = 'Third record.'\n",
    "zz3 = ['an', 'example','list']\n",
    "data3 = np.array([13,15,17,25.7,34.6,88])\n",
    "datalist = []\n",
    "#we convert the numpy arrays to float type (instead of integer) and lists to make it easier to write the file (i.e. enable JSON encoding).\n",
    "data_enc = list(np.array(data,dtype=float))\n",
    "data2_enc = list(np.array(data2,dtype=float))\n",
    "data3_enc = list(data3)\n",
    "datalist.append({'x':x, 'y':y, 'z':z, 'data':data_enc})\n",
    "datalist.append({'x':x2, 'y':y2, 'z':z2, 'data':data2_enc})\n",
    "datalist.append({'x':x3, 'y':y3, 'z':z3, 'zz':zz3, 'data':data3_enc})\n",
    "print(datalist)"
   ]
  },
  {
   "cell_type": "markdown",
   "metadata": {},
   "source": [
    "I would recommend writing/reading this data as a [JSON](https://www.w3schools.com/python/python_json.asp) format file as it is human-readable, flexible and has well-developed supporting Python libraries.  In debugging it is useful to test that your data is correctly formatted which you can do with an online [JSON Validator](https://jsonlint.com/).<br>\n",
    "We can easily write out the data using the <b>json</b> library."
   ]
  },
  {
   "cell_type": "code",
   "execution_count": 93,
   "metadata": {},
   "outputs": [],
   "source": [
    "import json\n",
    "with open('datalist.txt', 'w') as file:\n",
    "    #sort_keys, indent and separators fields make the output file easier to read.\n",
    "    json.dump(datalist, file, sort_keys=True, indent=4, separators=(',', ':'))\n"
   ]
  },
  {
   "cell_type": "markdown",
   "metadata": {},
   "source": [
    "And then it is simple to read the data back into a new variable (read_datalist) given knowledge of the structure that was saved. Notice that using the arrays is now straight-forward: convert the stored list to a numpy array."
   ]
  },
  {
   "cell_type": "code",
   "execution_count": 94,
   "metadata": {},
   "outputs": [
    {
     "name": "stdout",
     "output_type": "stream",
     "text": [
      "read_datalist\n",
      "[{'z': 'Hello', 'data': [5.0, 2.0, 3.0], 'y': 3.5, 'x': 2}, {'z': 'World', 'data': [13.0, 15.0, 17.0], 'y': -25.7, 'x': 25}, {'z': 'Third record.', 'data': [13.0, 15.0, 17.0, 25.7, 34.6, 88.0], 'y': 55.7, 'zz': ['an', 'example', 'list'], 'x': 26.9}]\n",
      "zz variable of third record\n",
      "['an', 'example', 'list']\n",
      "numpy array from first record\n",
      "[5. 2. 3.]\n",
      "standard deviation from array of 2nd record\n",
      "1.632993161855452\n"
     ]
    }
   ],
   "source": [
    "with open('datalist.txt', 'r') as readfile:\n",
    "    read_datalist = json.load(readfile)\n",
    "\n",
    "#some examples of how to use the JSON data that was read from file.\n",
    "print('read_datalist')\n",
    "print(read_datalist)\n",
    "print('zz variable of third record')\n",
    "print(read_datalist[2]['zz'])\n",
    "print('numpy array from first record')\n",
    "print(np.array(read_datalist[0]['data']))\n",
    "print('standard deviation from array of 2nd record')\n",
    "print(np.std(read_datalist[1]['data']))\n"
   ]
  },
  {
   "cell_type": "markdown",
   "metadata": {},
   "source": [
    "### Strings and cells\n",
    "There are both simple and complex ways to manipulate strings."
   ]
  },
  {
   "cell_type": "code",
   "execution_count": 95,
   "metadata": {},
   "outputs": [
    {
     "name": "stdout",
     "output_type": "stream",
     "text": [
      "Joe Bloggs\n"
     ]
    }
   ],
   "source": [
    "firstname = 'Joe'\n",
    "surname = 'Bloggs'\n",
    "fullname = firstname + ' ' + surname\n",
    "print(fullname)"
   ]
  },
  {
   "cell_type": "code",
   "execution_count": 96,
   "metadata": {},
   "outputs": [
    {
     "name": "stdout",
     "output_type": "stream",
     "text": [
      "Joe Bloggs 25 years old\n"
     ]
    }
   ],
   "source": [
    "#here is a simple concatenation with a conversion of the age to a string\n",
    "age = 25\n",
    "agestring = fullname + ' ' + str(age) + ' years old'\n",
    "print(agestring)"
   ]
  },
  {
   "cell_type": "code",
   "execution_count": 97,
   "metadata": {},
   "outputs": [
    {
     "name": "stdout",
     "output_type": "stream",
     "text": [
      "Joe Bloggs 300 months old\n"
     ]
    }
   ],
   "source": [
    "#for more complex formatting it is recommended to use format()\n",
    "agestring2 = fullname + ' {0} months old'.format(str(age*12))\n",
    "print(agestring2)"
   ]
  },
  {
   "cell_type": "code",
   "execution_count": 98,
   "metadata": {},
   "outputs": [
    {
     "name": "stdout",
     "output_type": "stream",
     "text": [
      "     0      1       2    3\n",
      "0  dog    cat   horse  rat\n",
      "1  car  train  hammer  van\n"
     ]
    }
   ],
   "source": [
    "#to create a non-numeric array (eg. all strings) use the DataFrame\n",
    "# this is the case where the columns of the array have no titles\n",
    "stimuli = pd.DataFrame([['dog','cat','horse','rat'],['car','train','hammer','van']])\n",
    "print(stimuli)\n"
   ]
  },
  {
   "cell_type": "code",
   "execution_count": 99,
   "metadata": {},
   "outputs": [
    {
     "name": "stdout",
     "output_type": "stream",
     "text": [
      "horse\n"
     ]
    }
   ],
   "source": [
    "#show one cell at row1 column 3. (0,2 in base 0 indexing)\n",
    "print(stimuli.iloc[0][2])"
   ]
  },
  {
   "cell_type": "code",
   "execution_count": 100,
   "metadata": {},
   "outputs": [
    {
     "name": "stdout",
     "output_type": "stream",
     "text": [
      "0      dog\n",
      "1      cat\n",
      "2    horse\n",
      "3      rat\n",
      "Name: 0, dtype: object\n"
     ]
    }
   ],
   "source": [
    "#can select a single row (index0)\n",
    "animals = stimuli.iloc[0,:]\n",
    "print(animals)"
   ]
  },
  {
   "cell_type": "code",
   "execution_count": 101,
   "metadata": {},
   "outputs": [
    {
     "name": "stdout",
     "output_type": "stream",
     "text": [
      "1    cat\n",
      "Name: 0, dtype: object\n"
     ]
    }
   ],
   "source": [
    "#this syntax is used to get the sub-array where the value is 'cat'\n",
    "print(animals[animals=='cat'])"
   ]
  },
  {
   "cell_type": "markdown",
   "metadata": {},
   "source": [
    "Here is an example of extracting a series of numbers from a DataFrame and converting it to a numpy array. This is often necessary to enable the full range of numeric functions available in numpy.\n"
   ]
  },
  {
   "cell_type": "code",
   "execution_count": 102,
   "metadata": {},
   "outputs": [
    {
     "name": "stdout",
     "output_type": "stream",
     "text": [
      "0     3.5\n",
      "1   -25.7\n",
      "Name: y, dtype: float64\n",
      "<class 'pandas.core.series.Series'>\n",
      "After conversion\n",
      "<class 'numpy.ndarray'>\n",
      "[  3.5 -25.7]\n"
     ]
    }
   ],
   "source": [
    "#extract a column from dataframe df3\n",
    "nums = df3['y']\n",
    "print(nums)\n",
    "print(type(nums))\n",
    "#convert to a numpy array\n",
    "realnums = np.array(nums)\n",
    "print('After conversion')\n",
    "print(type(realnums))\n",
    "print(realnums)"
   ]
  },
  {
   "cell_type": "markdown",
   "metadata": {},
   "source": [
    "### Structures\n",
    "The closest parallel to the Matlab 'structure' is created by using the Python 'dictionary'. We can't use pandas DataFrame because the number of elements in each cell (field) is different between records, and generally there are problems with arrays in a single DataFrame cell."
   ]
  },
  {
   "cell_type": "code",
   "execution_count": 103,
   "metadata": {},
   "outputs": [
    {
     "name": "stdout",
     "output_type": "stream",
     "text": [
      "{'pic': [1, 1, 5, 8, 9, 10, 25], 'subjectage': 25, 'subjectname': 'Joe Bloggs', 'word': ['the', 'words', 'we', 'need']}\n"
     ]
    }
   ],
   "source": [
    "word_data=['the','words','we','need']\n",
    "pic_data=[1,1,5,8,9,10,25]\n",
    "#here we initialize the 'data' dictionary with the first record\n",
    "data_dic = {'word':word_data, 'pic':pic_data, 'subjectname':'Joe Bloggs', 'subjectage':25 }\n",
    "print(data_dic)"
   ]
  },
  {
   "cell_type": "code",
   "execution_count": 104,
   "metadata": {},
   "outputs": [
    {
     "name": "stdout",
     "output_type": "stream",
     "text": [
      "{'pic': [1, 1, 5, 8, 9, 10, 25], 'subjectage': 18, 'subjectname': 'Jane Bloggs', 'word': ['lots', 'more', 'stuff']}\n"
     ]
    }
   ],
   "source": [
    "# append the second record to the first\n",
    "word_data2 = ['lots','more','stuff']\n",
    "pic_data2 = pic_data\n",
    "data_dic2 = {'word':word_data2, 'pic':pic_data2, 'subjectname':'Jane Bloggs', 'subjectage':18 }\n",
    "print(data_dic2)"
   ]
  },
  {
   "cell_type": "markdown",
   "metadata": {},
   "source": [
    "And then we create this into an analogue to 'structure' by forming a list of such records."
   ]
  },
  {
   "cell_type": "code",
   "execution_count": 105,
   "metadata": {},
   "outputs": [
    {
     "name": "stdout",
     "output_type": "stream",
     "text": [
      "[{'pic': [1, 1, 5, 8, 9, 10, 25], 'subjectage': 25, 'subjectname': 'Joe Bloggs', 'word': ['the', 'words', 'we', 'need']}, {'pic': [1, 1, 5, 8, 9, 10, 25], 'subjectage': 18, 'subjectname': 'Jane Bloggs', 'word': ['lots', 'more', 'stuff']}]\n"
     ]
    }
   ],
   "source": [
    "#list of dictionaries\n",
    "data = [data_dic, data_dic2]\n",
    "print(data)"
   ]
  },
  {
   "cell_type": "code",
   "execution_count": 106,
   "metadata": {},
   "outputs": [
    {
     "name": "stdout",
     "output_type": "stream",
     "text": [
      "18\n"
     ]
    }
   ],
   "source": [
    "#we can access the 2nd record's age like this\n",
    "print(data[1]['subjectage'])"
   ]
  },
  {
   "cell_type": "markdown",
   "metadata": {},
   "source": [
    "### System commands\n",
    "If you want to use these then find them in modules <b>os</b>, <b>shutil</b> or similar. As a last resort you can call them by using <b>subprocess</b>. Here are the functions I use to execute system commands under MacOS, when I can't get the results I need from the module functions."
   ]
  },
  {
   "cell_type": "code",
   "execution_count": 107,
   "metadata": {},
   "outputs": [],
   "source": [
    "import subprocess \n",
    "import shlex\n",
    "\n",
    "def systemcall ( cmdstr ):\n",
    "    ''' System call to execute command string in a shell. '''\n",
    "    try:\n",
    "        retcode = subprocess.call( cmdstr, shell=True)\n",
    "        if retcode != 0:\n",
    "            print (\"Error code:\", retcode)\n",
    "        return retcode\n",
    "    except OSError as e:\n",
    "        print (\"Execution failed:\", e )\n",
    "        \n",
    "def systemcall_pipe( cmdstr, allow=None, disp=True ):\n",
    "    ''' System call to execute command string, to get stderr and stdout output in variable proc. '''\n",
    "    # this function is superior to systemcall for use with Spyder where otherwise stdout/stderr are not visible.\n",
    "    # it is also needed if your main program needs to capture this output instead of only print it to terminal.\n",
    "    args = shlex.split(cmdstr)\n",
    "    try:\n",
    "        proc = subprocess.Popen(args, stdout=subprocess.PIPE, stderr=subprocess.PIPE)\n",
    "        #stdout and stderr from your process\n",
    "        out, err = proc.communicate()\n",
    "        retcode = proc.returncode\n",
    "        if err:\n",
    "            #decode the standard errors to readable form\n",
    "            str_err = err.decode(\"utf-8\")\n",
    "            #Exclude error messages in allow list which are expected.\n",
    "            bShow = True\n",
    "            if allow:\n",
    "                for allowstr in allow:\n",
    "                    if allowstr in str_err:\n",
    "                        bShow = False\n",
    "            if bShow:\n",
    "                print (\"System command '{0}' produced stderr message:\\n{1}\".format(cmdstr, str_err))\n",
    "\n",
    "        if disp:\n",
    "            str_out = out.decode(\"utf-8\")\n",
    "            if str_out:\n",
    "                print (\"System command '{0}' produced stdout message:\\n{1}\".format(cmdstr, str_out))\n",
    "\n",
    "        return retcode, out\n",
    "    except OSError as e:\n",
    "        print (\"Execution failed:\", e )"
   ]
  },
  {
   "cell_type": "code",
   "execution_count": 114,
   "metadata": {},
   "outputs": [
    {
     "name": "stdout",
     "output_type": "stream",
     "text": [
      "The systemcall method doesn't show stdout when used in Jupyter notebook but does from a script.\n",
      "\n",
      "With systemcall_pipe you can see the stdout from Jupyter notebook, and can use the results in variables:\n",
      "System command 'ls' produced stdout message:\n",
      "Figure-3Dscatter.png\n",
      "Figure-3Dscatterplot.png\n",
      "Figure-3Dsurface.png\n",
      "Figure-Lesson8.png\n",
      "Figure-script.png\n",
      "Figure.png\n",
      "Figure2-Lesson8.png\n",
      "GoogleTrends.png\n",
      "Python_for_Psychologists.ipynb\n",
      "Python_for_Psychologists.py\n",
      "Python_intro_lecture.pptx\n",
      "README.md\n",
      "datalist.txt\n",
      "exercise_answers\n",
      "exercise_templates\n",
      "image.png\n",
      "matlab_exercises\n",
      "matlab_for_psychologists.pdf\n",
      "mydata.txt\n",
      "myfile.txt\n",
      "mystim.txt\n",
      "some_stuff.csv\n",
      "subplots.png\n",
      "\n"
     ]
    }
   ],
   "source": [
    "#An example of how to use these functions to provide a directory listing.\n",
    "cmdstr = \"ls\"\n",
    "print(\"The systemcall method doesn't show stdout when used in Jupyter notebook but does from a script.\")\n",
    "retcode = systemcall(cmdstr)\n",
    "print(\"\")\n",
    "print(\"With systemcall_pipe you can see the stdout from Jupyter notebook, and can use the results in variables:\")\n",
    "stdout, stderr = systemcall_pipe(cmdstr)"
   ]
  },
  {
   "cell_type": "markdown",
   "metadata": {},
   "source": [
    "** *You should know enough now to do Exercises G and H. * **"
   ]
  },
  {
   "cell_type": "markdown",
   "metadata": {},
   "source": [
    "## Lesson 13 - Advanced Graphs\n",
    "\n",
    "There are a vast number of graphing options which are detailed at the matplotlib.org website. I will start with a modified example from this [page](http:/matplotlib.org), then modify it to show some of the frequently used features. It is possible, but rarely needed, to get a 'handle' to a figure, axis or line. Instead just find the appropriate argument for <b>plot</b> or another function (e.g.<b>xlabel</b>) to modify the plot.\n"
   ]
  },
  {
   "cell_type": "code",
   "execution_count": 115,
   "metadata": {},
   "outputs": [
    {
     "data": {
      "image/png": "[encoded data removed]",
      "text/plain": [
       "<matplotlib.figure.Figure at 0x180e7445c0>"
      ]
     },
     "metadata": {},
     "output_type": "display_data"
    }
   ],
   "source": [
    "#Simple demo with multiple subplots.\n",
    "import numpy as np\n",
    "import matplotlib.pyplot as plt\n",
    "\n",
    "# x data for plots 1 and 2\n",
    "x1 = np.linspace(0.0, 5.0)\n",
    "x2 = np.linspace(0.0, 2.0)\n",
    "# y data for plots 1 and 2\n",
    "y1 = np.cos(2 * np.pi * x1) * np.exp(-x1)\n",
    "y2 = np.cos(2 * np.pi * x2)\n",
    "\n",
    "#arrangement of subplots\n",
    "nrows = 2\n",
    "ncols = 1\n",
    "idx = 1\n",
    "plt.subplot(nrows, ncols, idx)\n",
    "#the marker/line is specified by the 'o-'\n",
    "plt.plot(x1, y1, 'o-')\n",
    "plt.title('A tale of 2 subplots')\n",
    "plt.ylabel('Damped oscillation')\n",
    "\n",
    "plt.subplot(nrows, ncols, idx+1)\n",
    "plt.plot(x2, y2, '.-')\n",
    "plt.xlabel('time (s)')\n",
    "plt.ylabel('Undamped')\n",
    "# For saving do this\n",
    "plt.savefig('subplots.png')\n",
    "plt.show()\n",
    "plt.close() #do this at end of each plot"
   ]
  },
  {
   "cell_type": "code",
   "execution_count": 116,
   "metadata": {},
   "outputs": [
    {
     "data": {
      "image/png": "[encoded data removed]",
      "text/plain": [
       "<matplotlib.figure.Figure at 0x180e74dba8>"
      ]
     },
     "metadata": {},
     "output_type": "display_data"
    }
   ],
   "source": [
    "#revise the above graph to use a different line width,color and no symbols\n",
    "plt.subplot(nrows, ncols, idx)\n",
    "plt.plot(x1, y1, '-', color='cyan') #changes\n",
    "plt.title('A tale of 2 subplots')\n",
    "plt.ylabel('Damped oscillation')\n",
    "\n",
    "plt.subplot(nrows, ncols, idx+1)\n",
    "plt.plot(x2, y2, '--', linewidth=4) #changes\n",
    "plt.xlabel('time (s)')\n",
    "plt.ylabel('Undamped')\n",
    "plt.show()\n",
    "plt.close() #do this at end of each plot"
   ]
  },
  {
   "cell_type": "markdown",
   "metadata": {},
   "source": [
    "### Images\n",
    "An example of plotting a matrix as an image."
   ]
  },
  {
   "cell_type": "code",
   "execution_count": 117,
   "metadata": {},
   "outputs": [
    {
     "data": {
      "image/png": "[encoded data removed]",
      "text/plain": [
       "<matplotlib.figure.Figure at 0x109321c18>"
      ]
     },
     "metadata": {},
     "output_type": "display_data"
    }
   ],
   "source": [
    "# data. Each is a 1D vector with 100 elements.\n",
    "x = np.linspace(0.0, 4*np.pi,100)\n",
    "y = np.linspace(0.0, 2*np.pi,100)\n",
    "m=100\n",
    "n=1\n",
    "# print(x)\n",
    "#repeat x by m times in n columns. Here tile inputs 1D vector 'x' to generate a 2D matrix and repeats that row 100 times in 1 column.\n",
    "# This tiling is done only to create an image from a row vector but we do need a 2D matrix for imshow()\n",
    "# therefore result is a 100x100 matrix\n",
    "X = np.tile(x,(m,n))\n",
    "# print(X)\n",
    "Y = np.tile(y,(m,n))\n",
    "# generate the image 'c' from two 2D matrices (X and Y). The values are 1D (one channel) and converted to colors by a 1D color scale. (Not RGB)\n",
    "c = np.sin(X) + np.cos(Y)\n",
    "# extent is needed in order to get correct x,y values for the axes (instead of the matrix indices).\n",
    "plt.imshow(c, extent=(np.amin(x), np.amax(x), np.amin(y), np.amax(y)), aspect = 'auto')\n",
    "# colorbar is the color legend.\n",
    "plt.colorbar()\n",
    "plt.savefig('image.png')\n"
   ]
  },
  {
   "cell_type": "markdown",
   "metadata": {},
   "source": [
    "## 3D Graphs\n",
    "For 3D graphs (plots) we can use the helper functions from module mplot3d. Here are some examples from the Matplotlib site.  <br>\n",
    "Here's an example 3D scatterplot."
   ]
  },
  {
   "cell_type": "code",
   "execution_count": 118,
   "metadata": {},
   "outputs": [
    {
     "data": {
      "image/png": "[encoded data removed]",
      "text/plain": [
       "<matplotlib.figure.Figure at 0x180e776518>"
      ]
     },
     "metadata": {},
     "output_type": "display_data"
    }
   ],
   "source": [
    "from mpl_toolkits.mplot3d import Axes3D\n",
    "import matplotlib.pyplot as plt\n",
    "import numpy as np\n",
    "\n",
    "\n",
    "def randrange(n, vmin, vmax):\n",
    "    '''\n",
    "    Helper function to make an array of random numbers having shape (n, )\n",
    "    with each number distributed Uniform(vmin, vmax).\n",
    "    '''\n",
    "    return (vmax - vmin)*np.random.rand(n) + vmin\n",
    "\n",
    "fig = plt.figure()\n",
    "ax = fig.add_subplot(111, projection='3d') #this projection fails if we haven't imported Axes3D.\n",
    "\n",
    "n = 100\n",
    "\n",
    "# For each set of style and range settings, plot n random points in the box\n",
    "# defined by x in [23, 32], y in [0, 100], z in [zlow, zhigh]. \n",
    "# This for-loop alternates between red circle markers and blue triangle markers \n",
    "for c, m, zlow, zhigh in [('r', 'o', -50, -25), ('b', '^', -30, -5)]:\n",
    "    xs = randrange(n, 23, 32)\n",
    "    ys = randrange(n, 0, 100)\n",
    "    zs = randrange(n, zlow, zhigh)\n",
    "    ax.scatter(xs, ys, zs, c=c, marker=m)\n",
    "\n",
    "ax.set_xlabel('X Label')\n",
    "ax.set_ylabel('Y Label')\n",
    "ax.set_zlabel('Z Label')\n",
    "plt.savefig('Figure-3Dscatter.png')\n",
    "plt.show()"
   ]
  },
  {
   "cell_type": "markdown",
   "metadata": {},
   "source": [
    "Here's an example surface plot."
   ]
  },
  {
   "cell_type": "code",
   "execution_count": 137,
   "metadata": {},
   "outputs": [
    {
     "data": {
      "image/png": "[encoded data removed]",
      "text/plain": [
       "<matplotlib.figure.Figure at 0x180e7f7f98>"
      ]
     },
     "metadata": {},
     "output_type": "display_data"
    }
   ],
   "source": [
    "from mpl_toolkits.mplot3d import Axes3D\n",
    "import matplotlib.pyplot as plt\n",
    "from matplotlib import cm\n",
    "from matplotlib.ticker import LinearLocator, FormatStrFormatter\n",
    "import numpy as np\n",
    "\n",
    "fig = plt.figure()\n",
    "ax = fig.gca(projection='3d')\n",
    "\n",
    "# Make data.\n",
    "# Create the grid of X, Y coordinates that defines the plotting area and coarseness of the plotting grid.\n",
    "x = np.arange(-6, 6, 0.25) #x in [-6,5.75] with 0.25 step size.\n",
    "y = np.arange(-5, 5, 0.25) #y in [-5,4.75] with 0.25 step size.\n",
    "#use the 1D x and y vectors to produce two 2D arrays. x is repeated to fill each row of X; y is repeated to fill each column of Y.\n",
    "#  The 2D X is the grid of x coordinates; the 2D Y is the grid of y coordinates.\n",
    "X, Y = np.meshgrid(x, y) \n",
    "\n",
    "# Create the function you want to plot in the region defined by X,Y\n",
    "R = np.sqrt(X**2 + Y**2) #radial distance from origin\n",
    "# The 2D Z is the grid of z (function) values, in this case a 2D cosine wave.\n",
    "Z = np.cos(R)\n",
    "\n",
    "# Plot the surface. Different color palettes from the color map (cmap).\n",
    "surf = ax.plot_surface(X, Y, Z, cmap=cm.winter, linewidth=0, antialiased=False)\n",
    "\n",
    "# Customize the z axis.\n",
    "ax.set_zlim(-1.01, 1.01) #range of z axis\n",
    "ax.zaxis.set_major_locator(LinearLocator(5)) #set number of z axis labels\n",
    "ax.zaxis.set_major_formatter(FormatStrFormatter('%.1f')) #string format for z labels\n",
    "\n",
    "# Add a color bar which maps values to colors.\n",
    "fig.colorbar(surf, shrink=0.5, aspect=5)\n",
    "ax.set_xlabel('X')\n",
    "ax.set_ylabel('Y')\n",
    "ax.set_zlabel('Z')\n",
    "plt.savefig('Figure-3Dsurface.png')\n",
    "plt.show()\n"
   ]
  },
  {
   "cell_type": "markdown",
   "metadata": {},
   "source": [
    "## Lesson 14 - Reading a Data file using Open and Read\n",
    "The best file reading method is data-dependent. My rule-of-thumb is that when the data are in a structured, matrix form (fixed number of rows and columns with a single type in each column) they are best read with Pandas DataFrame <b>from_csv</b>, and that for all other structures you will likely need to use the <b>open</b> and <b>read</b> functions. Given that Lesson 12 already covered some Pandas basics, I'll focus on the more low level functions.<br>\n",
    "Many resources on the web will recommend doing this like the following simple example, which assumes you have \"myfile.txt\" text file in the same directory as this python code.\n"
   ]
  },
  {
   "cell_type": "code",
   "execution_count": null,
   "metadata": {},
   "outputs": [],
   "source": [
    "#read myfile without a context manager.\n",
    "idx = 0\n",
    "infile = open('myfile.txt', 'r')\n",
    "for line in infile:\n",
    "    #print each line of the file regardless of what's in it with prefix (linenumber:)\n",
    "    # If the text file has line returns at the end of each line, which inserts empty lines in the print() output.\n",
    "    print('{0}:{1}'.format(idx,line))\n",
    "    idx +=1\n",
    "infile.close()"
   ]
  },
  {
   "cell_type": "markdown",
   "metadata": {},
   "source": [
    "But to properly handle your file resources you should actually use a <i>context manager</i> and the keyword for doing that is <b>with</b> to ensure that files get closed properly. Some recommend using <b>close</b> to do this but unfortunately there are many cases where this statement would be missed due to errors."
   ]
  },
  {
   "cell_type": "code",
   "execution_count": null,
   "metadata": {},
   "outputs": [],
   "source": [
    "#read myfile by getting file handle 'infile' with a context manager.\n",
    "idx = 0\n",
    "with open('myfile.txt', 'r') as infile:\n",
    "    for line in infile:\n",
    "        #print each line of the file regardless of what's in it with prefix (linenumber:)\n",
    "        # If the text file has line returns at the end of each line, empty lines will be inserted in the print() output.\n",
    "        print('{0}:{1}'.format(idx,line))\n",
    "        idx +=1\n",
    "        "
   ]
  },
  {
   "cell_type": "markdown",
   "metadata": {},
   "source": [
    "In addition we would like to handle common error cases in a user-friendly fashion. Here are some typical cases. Test it out by inserting incorrect directory or filenames below."
   ]
  },
  {
   "cell_type": "code",
   "execution_count": null,
   "metadata": {},
   "outputs": [],
   "source": [
    "import os\n",
    "import sys\n",
    "mydir = \"/Users/pradau/mydata\"\n",
    "filename = \"myfile.txt\"\n",
    "pathname = os.path.join(mydir, filename)\n",
    "if not os.path.isdir(mydir):\n",
    "    print(\"Your directory doesn't exist:\", mydir)\n",
    "    sys.exit(1)\n",
    "if not os.path.isfile(pathname):\n",
    "    print(\"Your file doesn't exist at this path:\", pathname)\n",
    "    sys.exit(1)\n",
    "    \n",
    "with open(pathname, 'r') as infile:\n",
    "    for line in infile:\n",
    "        #print each line of the file regardless of what's in it with prefix (linenumber:)\n",
    "        # If the text file has line returns at the end of each line, empty lines will be inserted in the print() output.\n",
    "        print('{}'.format(line))\n",
    "        "
   ]
  },
  {
   "cell_type": "markdown",
   "metadata": {},
   "source": [
    "To do something useful with the data you will typically need to parse each line. Here's an example where the lines are each put in separate lists by splitting at the whitespace (and throwing the whitespace away, such as spaces and tabs).\n"
   ]
  },
  {
   "cell_type": "code",
   "execution_count": null,
   "metadata": {},
   "outputs": [],
   "source": [
    "mylist = []\n",
    "with open(pathname, 'r') as infile:\n",
    "    for line in infile:\n",
    "        mylist.append(line.split())\n",
    "print(mylist)"
   ]
  },
  {
   "cell_type": "markdown",
   "metadata": {},
   "source": [
    "Either during or after the file reading you might want to do some data cleaning. Here's a simple example of cleaning during the file read that eliminates list items that are not alphanumeric."
   ]
  },
  {
   "cell_type": "code",
   "execution_count": null,
   "metadata": {},
   "outputs": [],
   "source": [
    "mylist = []\n",
    "with open(pathname, 'r') as infile:\n",
    "    for line in infile:\n",
    "        rowlist = line.split()\n",
    "        #this applies a filter to the list to eliminate non-alphanumeric items.\n",
    "        rowclean = [x for x in rowlist if x.isalnum()]\n",
    "        mylist.append(rowclean)\n",
    "print(mylist)"
   ]
  },
  {
   "cell_type": "markdown",
   "metadata": {},
   "source": [
    "Here's a basic script to read a file with either TIME or STIM or KEY in the first 4 characters, followed by data. Notice that the stimulus is an array so it can't be easily read by Pandas read_csv(). In addition we can use this method to do some organization of disorderly data. In this case the assumption is that the first instance of the TIME,STIM,KEY lines should be put in a single record and so on to group all of the data into records."
   ]
  },
  {
   "cell_type": "code",
   "execution_count": null,
   "metadata": {},
   "outputs": [],
   "source": [
    "#!/usr/bin/env python\n",
    "#filename = input('Enter filename: ') #User entered name\n",
    "filename = 'mystim.txt'  #hard-coded name\n",
    "idx = 0\n",
    "trial_time = []\n",
    "stimulus = []\n",
    "key = []\n",
    "with open(filename, 'r') as infile:\n",
    "    for line in infile:\n",
    "        first = line[:4]\n",
    "        last = line[6:]\n",
    "        if 'TIME' in first:\n",
    "            trial_time.append(float(last[:5]))\n",
    "        elif 'STIM' in first:\n",
    "            stimulus.append(last)\n",
    "        elif 'KEY ' in first:\n",
    "            key.append(float(last[0]))\n",
    "        else:\n",
    "            #do something here if you want to handle unexpected lines\n",
    "            pass\n",
    "        idx +=1\n",
    "\n",
    "for idx in range(len(key)):\n",
    "    print(\"Record\",idx)\n",
    "    print(\"trial_time {0}  stimulus {1}  key {2}\\n\".format(trial_time[idx], stimulus[idx], key[idx]))\n"
   ]
  },
  {
   "cell_type": "markdown",
   "metadata": {},
   "source": [
    "## Epilogue\n",
    "Those people who are still on the fence about whether it is worth their time to transition from Matlab to Python should read this [blog post](http://www.pyzo.org/python_vs_matlab.html). There's a more balanced discussion on [Quora](https://www.quora.com/How-do-MATLAB-and-Python-especially-SciPy-compare-for-scientific-computing). There's a wide world outside of Academia and the majority of people in the Data Science community are choosing Python or other languages like R. Here's a Google Trends plot showing how Python is faring in popularity. Not bad. :)"
   ]
  },
  {
   "cell_type": "code",
   "execution_count": null,
   "metadata": {},
   "outputs": [],
   "source": [
    "import matplotlib.pyplot as plt\n",
    "import matplotlib.image as mpimg\n",
    "import numpy as np\n",
    "img=mpimg.imread('GoogleTrends.png')\n",
    "plt.figure(figsize = (50,50))\n",
    "plt.imshow(img)"
   ]
  },
  {
   "cell_type": "code",
   "execution_count": null,
   "metadata": {},
   "outputs": [],
   "source": []
  }
 ],
 "metadata": {
  "kernelspec": {
   "display_name": "Python 3",
   "language": "python",
   "name": "python3"
  },
  "language_info": {
   "codemirror_mode": {
    "name": "ipython",
    "version": 3
   },
   "file_extension": ".py",
   "mimetype": "text/x-python",
   "name": "python",
   "nbconvert_exporter": "python",
   "pygments_lexer": "ipython3",
   "version": "3.5.4"
  }
 },
 "nbformat": 4,
 "nbformat_minor": 2
}
